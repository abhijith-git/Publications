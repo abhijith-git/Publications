{
 "cells": [
  {
   "cell_type": "code",
   "execution_count": 1,
   "metadata": {
    "ExecuteTime": {
     "end_time": "2020-10-26T14:10:13.958382Z",
     "start_time": "2020-10-26T14:10:12.341898Z"
    }
   },
   "outputs": [
    {
     "data": {
      "text/plain": [
       "set()"
      ]
     },
     "execution_count": 1,
     "metadata": {},
     "output_type": "execute_result"
    }
   ],
   "source": [
    "#Import libraries\n",
    "import pandas as pd\n",
    "\n",
    "df_conf=pd.read_csv('time_series_covid19_confirmed_global.csv')\n",
    "fl_data=pd.read_csv(\"flourish_flags.csv\")\n",
    "\n",
    "\n",
    "country_list=df_conf[\"Country/Region\"].unique()\n",
    "fl_ctry=set(fl_data[\"Country Name\"].unique())\n",
    "false_set=set(country_list)-fl_ctry\n",
    "set(country_list)-fl_ctry #set of countries where flag is not available"
   ]
  },
  {
   "cell_type": "code",
   "execution_count": 2,
   "metadata": {
    "ExecuteTime": {
     "end_time": "2020-10-26T14:10:17.232616Z",
     "start_time": "2020-10-26T14:10:17.204663Z"
    },
    "code_folding": [
     0
    ]
   },
   "outputs": [
    {
     "data": {
      "text/plain": [
       "'\\nfl_data[\\'Country Name\\'][fl_data[\\'Country Name\\']==\\'Bahamas, The\\']=\\'Bahamas\\'\\nfl_data[\\'Country Name\\'][fl_data[\\'Country Name\\']==\"Brunei Darussalam\"]=\\'Brunei\\'\\nfl_data[\\'Country Name\\'][fl_data[\\'Country Name\\']==\"Myanmar\"]=\\'Burma\\'\\nfl_data[\\'Country Name\\'][fl_data[\\'Country Name\\']==\"Congo, Rep.\"]=\\'Congo (Brazzaville)\\'\\nfl_data[\\'Country Name\\'][fl_data[\\'Country Name\\']==\"Congo, Dem. Rep.\"]=\\'Congo (Kinshasa)\\'\\nfl_data[\\'Country Name\\'][fl_data[\\'Country Name\\']==\"Czech Republic\"]=\\'Czechia\\'\\nfl_data[\\'Country Name\\'][fl_data[\\'Country Name\\']==\"Cruise Ship\"]=\\'Diamond Princess\\'\\nfl_data[\\'Country Name\\'][fl_data[\\'Country Name\\']==\"Egypt, Arab Rep.\"]=\\'Egypt\\'\\nfl_data[\\'Country Name\\'][fl_data[\\'Country Name\\']==\"Gambia, The\"]=\\'Gambia\\'\\nfl_data[\\'Country Name\\'][fl_data[\\'Country Name\\']==\"NA\"]=\\'Holy See\\'\\nfl_data[\\'Country Name\\'][fl_data[\\'Country Name\\']==\"Iran, Islamic Rep.\"]=\\'Iran\\'\\nfl_data[\\'Country Name\\'][fl_data[\\'Country Name\\']==\"Korea, Rep.\"]=\\'Korea, South\\'\\nfl_data[\\'Country Name\\'][fl_data[\\'Country Name\\']==\"NA\"]=\\'Kosovo\\'\\nfl_data[\\'Country Name\\'][fl_data[\\'Country Name\\']==\"Kyrgyz Republic\"]=\\'Kyrgyzstan\\'\\nfl_data[\\'Country Name\\'][fl_data[\\'Country Name\\']==\"Lao PDR\"]=\\'Laos\\'\\nfl_data[\\'Country Name\\'][fl_data[\\'Country Name\\']==\"Cruise Ship\"]=\\'MS Zaandam\\'\\nfl_data[\\'Country Name\\'][fl_data[\\'Country Name\\']==\"Macedonia, FYR\"]=\\'North Macedonia\\'\\nfl_data[\\'Country Name\\'][fl_data[\\'Country Name\\']==\"St. Kitts and Nevis\"]=\\'Saint Kitts and Nevis\\'\\nfl_data[\\'Country Name\\'][fl_data[\\'Country Name\\']==\"St. Lucia\"]=\\'Saint Lucia\\'\\nfl_data[\\'Country Name\\'][fl_data[\\'Country Name\\']==\"St. Vincent and the Grenadines\"]=\\'Saint Vincent and the Grenadines\\'\\nfl_data[\\'Country Name\\'][fl_data[\\'Country Name\\']==\"Slovak Republic\"]=\\'Slovakia\\'\\nfl_data[\\'Country Name\\'][fl_data[\\'Country Name\\']==\"Syrian Arab Republic\"]=\\'Syria\\'\\nfl_data[\\'Country Name\\'][fl_data[\\'Country Name\\']==\"NA\"]=\\'Taiwan*\\'\\nfl_data[\\'Country Name\\'][fl_data[\\'Country Name\\']==\"USA\"]=\\'US\\'\\nfl_data[\\'Country Name\\'][fl_data[\\'Country Name\\']==\"UAE\"]=\\'United Arab Emirates\\'\\nfl_data[\\'Country Name\\'][fl_data[\\'Country Name\\']==\"UK\"]=\\'United Kingdom\\'\\nfl_data[\\'Country Name\\'][fl_data[\\'Country Name\\']==\"Venezuela, RB\"]=\\'Venezuela\\'\\nfl_data[\\'Country Name\\'][fl_data[\\'Country Name\\']==\"NA\"]=\\'Western Sahara\\'\\nfl_data[\\'Country Name\\'][fl_data[\\'Country Name\\']==\"Yemen, Rep.\"]=\\'Yemen\\'\\n'"
      ]
     },
     "execution_count": 2,
     "metadata": {},
     "output_type": "execute_result"
    }
   ],
   "source": [
    "#IF Countryname is not availabe, mannually add as follows or edit in the source file\n",
    "\"\"\"\n",
    "fl_data['Country Name'][fl_data['Country Name']=='Bahamas, The']='Bahamas'\n",
    "fl_data['Country Name'][fl_data['Country Name']==\"Brunei Darussalam\"]='Brunei'\n",
    "fl_data['Country Name'][fl_data['Country Name']==\"Myanmar\"]='Burma'\n",
    "fl_data['Country Name'][fl_data['Country Name']==\"Congo, Rep.\"]='Congo (Brazzaville)'\n",
    "fl_data['Country Name'][fl_data['Country Name']==\"Congo, Dem. Rep.\"]='Congo (Kinshasa)'\n",
    "fl_data['Country Name'][fl_data['Country Name']==\"Czech Republic\"]='Czechia'\n",
    "fl_data['Country Name'][fl_data['Country Name']==\"Cruise Ship\"]='Diamond Princess'\n",
    "fl_data['Country Name'][fl_data['Country Name']==\"Egypt, Arab Rep.\"]='Egypt'\n",
    "fl_data['Country Name'][fl_data['Country Name']==\"Gambia, The\"]='Gambia'\n",
    "fl_data['Country Name'][fl_data['Country Name']==\"NA\"]='Holy See'\n",
    "fl_data['Country Name'][fl_data['Country Name']==\"Iran, Islamic Rep.\"]='Iran'\n",
    "fl_data['Country Name'][fl_data['Country Name']==\"Korea, Rep.\"]='Korea, South'\n",
    "fl_data['Country Name'][fl_data['Country Name']==\"NA\"]='Kosovo'\n",
    "fl_data['Country Name'][fl_data['Country Name']==\"Kyrgyz Republic\"]='Kyrgyzstan'\n",
    "fl_data['Country Name'][fl_data['Country Name']==\"Lao PDR\"]='Laos'\n",
    "fl_data['Country Name'][fl_data['Country Name']==\"Cruise Ship\"]='MS Zaandam'\n",
    "fl_data['Country Name'][fl_data['Country Name']==\"Macedonia, FYR\"]='North Macedonia'\n",
    "fl_data['Country Name'][fl_data['Country Name']==\"St. Kitts and Nevis\"]='Saint Kitts and Nevis'\n",
    "fl_data['Country Name'][fl_data['Country Name']==\"St. Lucia\"]='Saint Lucia'\n",
    "fl_data['Country Name'][fl_data['Country Name']==\"St. Vincent and the Grenadines\"]='Saint Vincent and the Grenadines'\n",
    "fl_data['Country Name'][fl_data['Country Name']==\"Slovak Republic\"]='Slovakia'\n",
    "fl_data['Country Name'][fl_data['Country Name']==\"Syrian Arab Republic\"]='Syria'\n",
    "fl_data['Country Name'][fl_data['Country Name']==\"NA\"]='Taiwan*'\n",
    "fl_data['Country Name'][fl_data['Country Name']==\"USA\"]='US'\n",
    "fl_data['Country Name'][fl_data['Country Name']==\"UAE\"]='United Arab Emirates'\n",
    "fl_data['Country Name'][fl_data['Country Name']==\"UK\"]='United Kingdom'\n",
    "fl_data['Country Name'][fl_data['Country Name']==\"Venezuela, RB\"]='Venezuela'\n",
    "fl_data['Country Name'][fl_data['Country Name']==\"NA\"]='Western Sahara'\n",
    "fl_data['Country Name'][fl_data['Country Name']==\"Yemen, Rep.\"]='Yemen'\n",
    "\"\"\""
   ]
  },
  {
   "cell_type": "code",
   "execution_count": null,
   "metadata": {
    "ExecuteTime": {
     "start_time": "2020-10-26T14:10:18.191Z"
    }
   },
   "outputs": [],
   "source": [
    "df_conf.drop(['Province/State','Lat', 'Long'],axis=1, inplace=True)\n",
    "df_c=pd.DataFrame(columns=df_conf.columns)\n",
    "df_c['Country/Region']=country_list\n",
    "\n",
    "\n",
    "for col_name in df_c.keys()[1:]:\n",
    "    for ctry in country_list:\n",
    "        x=df_conf[col_name][df_conf[\"Country/Region\"]==ctry].sum()\n",
    "        df_c[col_name][df_c['Country/Region']==ctry]=x\n",
    "        \n",
    "        \n",
    "df_c['region']=\"\"\n",
    "df_c['Image']=\"\"\n",
    "\n",
    "for ctry in df_c['Country/Region'].unique():\n",
    "    df_c['region'][df_c['Country/Region']==ctry]=str(fl_data.region[fl_data['Country Name']==ctry].sum())\n",
    "    df_c['Image'][df_c['Country/Region']==ctry]=str(fl_data['Image URL'][fl_data['Country Name']==ctry].sum())"
   ]
  },
  {
   "cell_type": "code",
   "execution_count": null,
   "metadata": {
    "ExecuteTime": {
     "start_time": "2020-10-26T14:10:19.404Z"
    }
   },
   "outputs": [],
   "source": [
    "df_c[df_c.region==\"0\"]"
   ]
  },
  {
   "cell_type": "code",
   "execution_count": null,
   "metadata": {
    "ExecuteTime": {
     "start_time": "2020-10-26T14:10:44.981Z"
    }
   },
   "outputs": [],
   "source": [
    "#Save the preprocessed File\n",
    "df_c.to_csv(\"covid_csv_for_flourish.csv\", index=None)"
   ]
  }
 ],
 "metadata": {
  "kernelspec": {
   "display_name": "Python 3",
   "language": "python",
   "name": "python3"
  },
  "language_info": {
   "codemirror_mode": {
    "name": "ipython",
    "version": 3
   },
   "file_extension": ".py",
   "mimetype": "text/x-python",
   "name": "python",
   "nbconvert_exporter": "python",
   "pygments_lexer": "ipython3",
   "version": "3.7.4"
  }
 },
 "nbformat": 4,
 "nbformat_minor": 2
}
