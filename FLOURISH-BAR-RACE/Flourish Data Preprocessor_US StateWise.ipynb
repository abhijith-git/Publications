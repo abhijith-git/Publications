{
 "cells": [
  {
   "cell_type": "markdown",
   "metadata": {},
   "source": [
    "Requirements\n",
    "* time_series_covid19_confirmed_US.csv\n",
    "* time_series_covid19_deaths_US.csv\n",
    "* governers usa.csv"
   ]
  },
  {
   "cell_type": "code",
   "execution_count": 2,
   "metadata": {
    "ExecuteTime": {
     "end_time": "2020-10-26T14:44:03.365389Z",
     "start_time": "2020-10-26T14:44:03.359325Z"
    }
   },
   "outputs": [],
   "source": [
    "#Libraries\n",
    "import pandas as pd\n",
    "import warnings\n",
    "warnings.filterwarnings('ignore')"
   ]
  },
  {
   "cell_type": "code",
   "execution_count": 3,
   "metadata": {
    "ExecuteTime": {
     "end_time": "2020-10-26T14:44:45.804018Z",
     "start_time": "2020-10-26T14:44:04.266832Z"
    },
    "code_folding": []
   },
   "outputs": [],
   "source": [
    "#Read Data\n",
    "df_conf=pd.read_csv(\"time_series_covid19_confirmed_US.csv\")\n",
    "#df_death=pd.read_csv(\"time_series_covid19_deaths_US.csv\")\n",
    "df_gov=pd.read_csv(\"governers usa.csv\", encoding='iso-8859-1')\n",
    "\n",
    "def flourish_preprocessor(df_conf):\n",
    "    #Select US\n",
    "    fl_conf=df_conf[df_conf.iso2=='US']\n",
    "\n",
    "    #Drop unwanted columns\n",
    "    fl_conf.drop(['UID', 'iso2', 'iso3', 'code3', 'FIPS', 'Admin2','Country_Region', 'Lat', 'Long_','Combined_Key'], axis=1, inplace=True)\n",
    "\n",
    "    #Make dataframe\n",
    "    keys=fl_conf.columns\n",
    "    cols=list([keys[0]])+list(['Party'])+list(keys[1:])\n",
    "    df_fl=pd.DataFrame(columns=cols)\n",
    "    #Province\n",
    "    df_fl.Province_State=fl_conf.Province_State.unique()\n",
    "    #Values\n",
    "    for state in df_fl.Province_State:\n",
    "        for col in keys[1:]:\n",
    "            df_fl[col][df_fl.Province_State==state]=fl_conf[col][fl_conf.Province_State==state].sum()\n",
    "    #Party        \n",
    "    for state in df_fl.Province_State:\n",
    "        df_fl.Party[df_fl.Province_State==state]=df_gov.Party[df_gov.State==state].sum()\n",
    "    df_fl.Party[df_fl.Province_State=='District of Columbia']=\"Democratic\"\n",
    "    #Drop Non-States(Cruise Ships)\n",
    "    df_fl=df_fl.drop(df_fl[df_fl.Party==0].index)\n",
    "\n",
    "    return df_fl\n",
    "\n",
    "fl_conf=flourish_preprocessor(df_conf)\n",
    "#fl_death=flourish_preprocessor(df_death)\n",
    "fl_conf.to_csv('fl_US_Conf_StateWise.csv', index=None)\n",
    "#fl_death.to_csv('fl_US_Death_StateWise.csv', index=None)"
   ]
  }
 ],
 "metadata": {
  "kernelspec": {
   "display_name": "Python 3",
   "language": "python",
   "name": "python3"
  },
  "language_info": {
   "codemirror_mode": {
    "name": "ipython",
    "version": 3
   },
   "file_extension": ".py",
   "mimetype": "text/x-python",
   "name": "python",
   "nbconvert_exporter": "python",
   "pygments_lexer": "ipython3",
   "version": "3.7.4"
  }
 },
 "nbformat": 4,
 "nbformat_minor": 2
}
