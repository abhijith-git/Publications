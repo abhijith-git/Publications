{
 "cells": [
  {
   "cell_type": "code",
   "execution_count": 1,
   "metadata": {
    "ExecuteTime": {
     "end_time": "2020-10-26T14:10:13.958382Z",
     "start_time": "2020-10-26T14:10:12.341898Z"
    }
   },
   "outputs": [
    {
     "data": {
      "text/plain": [
       "set()"
      ]
     },
     "execution_count": 1,
     "metadata": {},
     "output_type": "execute_result"
    }
   ],
   "source": [
    "#Import libraries\n",
    "import pandas as pd\n",
    "\n",
    "df_conf=pd.read_csv('time_series_covid19_confirmed_global.csv')\n",
    "fl_data=pd.read_csv(\"flourish_flags.csv\")\n",
    "\n",
    "\n",
    "country_list=df_conf[\"Country/Region\"].unique()\n",
    "fl_ctry=set(fl_data[\"Country Name\"].unique())\n",
    "false_set=set(country_list)-fl_ctry\n",
    "set(country_list)-fl_ctry #set of countries where flag is not available"
   ]
  },
  {
   "cell_type": "code",
   "execution_count": 2,
   "metadata": {
    "ExecuteTime": {
     "end_time": "2020-10-26T14:10:17.232616Z",
     "start_time": "2020-10-26T14:10:17.204663Z"
    },
    "code_folding": [
     0
    ]
   },
   "outputs": [
    {
     "data": {
      "text/plain": [
       "'\\nfl_data[\\'Country Name\\'][fl_data[\\'Country Name\\']==\\'Bahamas, The\\']=\\'Bahamas\\'\\nfl_data[\\'Country Name\\'][fl_data[\\'Country Name\\']==\"Brunei Darussalam\"]=\\'Brunei\\'\\nfl_data[\\'Country Name\\'][fl_data[\\'Country Name\\']==\"Myanmar\"]=\\'Burma\\'\\nfl_data[\\'Country Name\\'][fl_data[\\'Country Name\\']==\"Congo, Rep.\"]=\\'Congo (Brazzaville)\\'\\nfl_data[\\'Country Name\\'][fl_data[\\'Country Name\\']==\"Congo, Dem. Rep.\"]=\\'Congo (Kinshasa)\\'\\nfl_data[\\'Country Name\\'][fl_data[\\'Country Name\\']==\"Czech Republic\"]=\\'Czechia\\'\\nfl_data[\\'Country Name\\'][fl_data[\\'Country Name\\']==\"Cruise Ship\"]=\\'Diamond Princess\\'\\nfl_data[\\'Country Name\\'][fl_data[\\'Country Name\\']==\"Egypt, Arab Rep.\"]=\\'Egypt\\'\\nfl_data[\\'Country Name\\'][fl_data[\\'Country Name\\']==\"Gambia, The\"]=\\'Gambia\\'\\nfl_data[\\'Country Name\\'][fl_data[\\'Country Name\\']==\"NA\"]=\\'Holy See\\'\\nfl_data[\\'Country Name\\'][fl_data[\\'Country Name\\']==\"Iran, Islamic Rep.\"]=\\'Iran\\'\\nfl_data[\\'Country Name\\'][fl_data[\\'Country Name\\']==\"Korea, Rep.\"]=\\'Korea, South\\'\\nfl_data[\\'Country Name\\'][fl_data[\\'Country Name\\']==\"NA\"]=\\'Kosovo\\'\\nfl_data[\\'Country Name\\'][fl_data[\\'Country Name\\']==\"Kyrgyz Republic\"]=\\'Kyrgyzstan\\'\\nfl_data[\\'Country Name\\'][fl_data[\\'Country Name\\']==\"Lao PDR\"]=\\'Laos\\'\\nfl_data[\\'Country Name\\'][fl_data[\\'Country Name\\']==\"Cruise Ship\"]=\\'MS Zaandam\\'\\nfl_data[\\'Country Name\\'][fl_data[\\'Country Name\\']==\"Macedonia, FYR\"]=\\'North Macedonia\\'\\nfl_data[\\'Country Name\\'][fl_data[\\'Country Name\\']==\"St. Kitts and Nevis\"]=\\'Saint Kitts and Nevis\\'\\nfl_data[\\'Country Name\\'][fl_data[\\'Country Name\\']==\"St. Lucia\"]=\\'Saint Lucia\\'\\nfl_data[\\'Country Name\\'][fl_data[\\'Country Name\\']==\"St. Vincent and the Grenadines\"]=\\'Saint Vincent and the Grenadines\\'\\nfl_data[\\'Country Name\\'][fl_data[\\'Country Name\\']==\"Slovak Republic\"]=\\'Slovakia\\'\\nfl_data[\\'Country Name\\'][fl_data[\\'Country Name\\']==\"Syrian Arab Republic\"]=\\'Syria\\'\\nfl_data[\\'Country Name\\'][fl_data[\\'Country Name\\']==\"NA\"]=\\'Taiwan*\\'\\nfl_data[\\'Country Name\\'][fl_data[\\'Country Name\\']==\"USA\"]=\\'US\\'\\nfl_data[\\'Country Name\\'][fl_data[\\'Country Name\\']==\"UAE\"]=\\'United Arab Emirates\\'\\nfl_data[\\'Country Name\\'][fl_data[\\'Country Name\\']==\"UK\"]=\\'United Kingdom\\'\\nfl_data[\\'Country Name\\'][fl_data[\\'Country Name\\']==\"Venezuela, RB\"]=\\'Venezuela\\'\\nfl_data[\\'Country Name\\'][fl_data[\\'Country Name\\']==\"NA\"]=\\'Western Sahara\\'\\nfl_data[\\'Country Name\\'][fl_data[\\'Country Name\\']==\"Yemen, Rep.\"]=\\'Yemen\\'\\n'"
      ]
     },
     "execution_count": 2,
     "metadata": {},
     "output_type": "execute_result"
    }
   ],
   "source": [
    "#IF Countryname is not availabe, mannually add as follows or edit in the source file\n",
    "\"\"\"\n",
    "fl_data['Country Name'][fl_data['Country Name']=='Bahamas, The']='Bahamas'\n",
    "fl_data['Country Name'][fl_data['Country Name']==\"Brunei Darussalam\"]='Brunei'\n",
    "fl_data['Country Name'][fl_data['Country Name']==\"Myanmar\"]='Burma'\n",
    "fl_data['Country Name'][fl_data['Country Name']==\"Congo, Rep.\"]='Congo (Brazzaville)'\n",
    "fl_data['Country Name'][fl_data['Country Name']==\"Congo, Dem. Rep.\"]='Congo (Kinshasa)'\n",
    "fl_data['Country Name'][fl_data['Country Name']==\"Czech Republic\"]='Czechia'\n",
    "fl_data['Country Name'][fl_data['Country Name']==\"Cruise Ship\"]='Diamond Princess'\n",
    "fl_data['Country Name'][fl_data['Country Name']==\"Egypt, Arab Rep.\"]='Egypt'\n",
    "fl_data['Country Name'][fl_data['Country Name']==\"Gambia, The\"]='Gambia'\n",
    "fl_data['Country Name'][fl_data['Country Name']==\"NA\"]='Holy See'\n",
    "fl_data['Country Name'][fl_data['Country Name']==\"Iran, Islamic Rep.\"]='Iran'\n",
    "fl_data['Country Name'][fl_data['Country Name']==\"Korea, Rep.\"]='Korea, South'\n",
    "fl_data['Country Name'][fl_data['Country Name']==\"NA\"]='Kosovo'\n",
    "fl_data['Country Name'][fl_data['Country Name']==\"Kyrgyz Republic\"]='Kyrgyzstan'\n",
    "fl_data['Country Name'][fl_data['Country Name']==\"Lao PDR\"]='Laos'\n",
    "fl_data['Country Name'][fl_data['Country Name']==\"Cruise Ship\"]='MS Zaandam'\n",
    "fl_data['Country Name'][fl_data['Country Name']==\"Macedonia, FYR\"]='North Macedonia'\n",
    "fl_data['Country Name'][fl_data['Country Name']==\"St. Kitts and Nevis\"]='Saint Kitts and Nevis'\n",
    "fl_data['Country Name'][fl_data['Country Name']==\"St. Lucia\"]='Saint Lucia'\n",
    "fl_data['Country Name'][fl_data['Country Name']==\"St. Vincent and the Grenadines\"]='Saint Vincent and the Grenadines'\n",
    "fl_data['Country Name'][fl_data['Country Name']==\"Slovak Republic\"]='Slovakia'\n",
    "fl_data['Country Name'][fl_data['Country Name']==\"Syrian Arab Republic\"]='Syria'\n",
    "fl_data['Country Name'][fl_data['Country Name']==\"NA\"]='Taiwan*'\n",
    "fl_data['Country Name'][fl_data['Country Name']==\"USA\"]='US'\n",
    "fl_data['Country Name'][fl_data['Country Name']==\"UAE\"]='United Arab Emirates'\n",
    "fl_data['Country Name'][fl_data['Country Name']==\"UK\"]='United Kingdom'\n",
    "fl_data['Country Name'][fl_data['Country Name']==\"Venezuela, RB\"]='Venezuela'\n",
    "fl_data['Country Name'][fl_data['Country Name']==\"NA\"]='Western Sahara'\n",
    "fl_data['Country Name'][fl_data['Country Name']==\"Yemen, Rep.\"]='Yemen'\n",
    "\"\"\""
   ]
  },
  {
   "cell_type": "code",
   "execution_count": 3,
   "metadata": {
    "ExecuteTime": {
     "end_time": "2020-10-26T14:13:44.410382Z",
     "start_time": "2020-10-26T14:10:18.185813Z"
    }
   },
   "outputs": [],
   "source": [
    "df_conf.drop(['Province/State','Lat', 'Long'],axis=1, inplace=True)\n",
    "df_c=pd.DataFrame(columns=df_conf.columns)\n",
    "df_c['Country/Region']=country_list\n",
    "\n",
    "\n",
    "for col_name in df_c.keys()[1:]:\n",
    "    for ctry in country_list:\n",
    "        x=df_conf[col_name][df_conf[\"Country/Region\"]==ctry].sum()\n",
    "        df_c[col_name][df_c['Country/Region']==ctry]=x\n",
    "        \n",
    "        \n",
    "df_c['region']=\"\"\n",
    "df_c['Image']=\"\"\n",
    "\n",
    "for ctry in df_c['Country/Region'].unique():\n",
    "    df_c['region'][df_c['Country/Region']==ctry]=str(fl_data.region[fl_data['Country Name']==ctry].sum())\n",
    "    df_c['Image'][df_c['Country/Region']==ctry]=str(fl_data['Image URL'][fl_data['Country Name']==ctry].sum())"
   ]
  },
  {
   "cell_type": "code",
   "execution_count": 4,
   "metadata": {
    "ExecuteTime": {
     "end_time": "2020-10-26T14:13:44.466446Z",
     "start_time": "2020-10-26T14:13:44.410382Z"
    }
   },
   "outputs": [
    {
     "data": {
      "text/html": [
       "<div>\n",
       "<style scoped>\n",
       "    .dataframe tbody tr th:only-of-type {\n",
       "        vertical-align: middle;\n",
       "    }\n",
       "\n",
       "    .dataframe tbody tr th {\n",
       "        vertical-align: top;\n",
       "    }\n",
       "\n",
       "    .dataframe thead th {\n",
       "        text-align: right;\n",
       "    }\n",
       "</style>\n",
       "<table border=\"1\" class=\"dataframe\">\n",
       "  <thead>\n",
       "    <tr style=\"text-align: right;\">\n",
       "      <th></th>\n",
       "      <th>Country/Region</th>\n",
       "      <th>1/22/20</th>\n",
       "      <th>1/23/20</th>\n",
       "      <th>1/24/20</th>\n",
       "      <th>1/25/20</th>\n",
       "      <th>1/26/20</th>\n",
       "      <th>1/27/20</th>\n",
       "      <th>1/28/20</th>\n",
       "      <th>1/29/20</th>\n",
       "      <th>1/30/20</th>\n",
       "      <th>...</th>\n",
       "      <th>9/14/20</th>\n",
       "      <th>9/15/20</th>\n",
       "      <th>9/16/20</th>\n",
       "      <th>9/17/20</th>\n",
       "      <th>9/18/20</th>\n",
       "      <th>9/19/20</th>\n",
       "      <th>9/20/20</th>\n",
       "      <th>9/21/20</th>\n",
       "      <th>region</th>\n",
       "      <th>Image</th>\n",
       "    </tr>\n",
       "  </thead>\n",
       "  <tbody>\n",
       "  </tbody>\n",
       "</table>\n",
       "<p>0 rows × 247 columns</p>\n",
       "</div>"
      ],
      "text/plain": [
       "Empty DataFrame\n",
       "Columns: [Country/Region, 1/22/20, 1/23/20, 1/24/20, 1/25/20, 1/26/20, 1/27/20, 1/28/20, 1/29/20, 1/30/20, 1/31/20, 2/1/20, 2/2/20, 2/3/20, 2/4/20, 2/5/20, 2/6/20, 2/7/20, 2/8/20, 2/9/20, 2/10/20, 2/11/20, 2/12/20, 2/13/20, 2/14/20, 2/15/20, 2/16/20, 2/17/20, 2/18/20, 2/19/20, 2/20/20, 2/21/20, 2/22/20, 2/23/20, 2/24/20, 2/25/20, 2/26/20, 2/27/20, 2/28/20, 2/29/20, 3/1/20, 3/2/20, 3/3/20, 3/4/20, 3/5/20, 3/6/20, 3/7/20, 3/8/20, 3/9/20, 3/10/20, 3/11/20, 3/12/20, 3/13/20, 3/14/20, 3/15/20, 3/16/20, 3/17/20, 3/18/20, 3/19/20, 3/20/20, 3/21/20, 3/22/20, 3/23/20, 3/24/20, 3/25/20, 3/26/20, 3/27/20, 3/28/20, 3/29/20, 3/30/20, 3/31/20, 4/1/20, 4/2/20, 4/3/20, 4/4/20, 4/5/20, 4/6/20, 4/7/20, 4/8/20, 4/9/20, 4/10/20, 4/11/20, 4/12/20, 4/13/20, 4/14/20, 4/15/20, 4/16/20, 4/17/20, 4/18/20, 4/19/20, 4/20/20, 4/21/20, 4/22/20, 4/23/20, 4/24/20, 4/25/20, 4/26/20, 4/27/20, 4/28/20, 4/29/20, ...]\n",
       "Index: []\n",
       "\n",
       "[0 rows x 247 columns]"
      ]
     },
     "execution_count": 4,
     "metadata": {},
     "output_type": "execute_result"
    }
   ],
   "source": [
    "df_c[df_c.region==\"0\"]"
   ]
  },
  {
   "cell_type": "code",
   "execution_count": 5,
   "metadata": {
    "ExecuteTime": {
     "end_time": "2020-10-26T14:13:44.541475Z",
     "start_time": "2020-10-26T14:13:44.466446Z"
    }
   },
   "outputs": [],
   "source": [
    "#Save the preprocessed File\n",
    "df_c.to_csv(\"covid_csv_for_flourish.csv\", index=None)"
   ]
  }
 ],
 "metadata": {
  "kernelspec": {
   "display_name": "Python 3",
   "language": "python",
   "name": "python3"
  },
  "language_info": {
   "codemirror_mode": {
    "name": "ipython",
    "version": 3
   },
   "file_extension": ".py",
   "mimetype": "text/x-python",
   "name": "python",
   "nbconvert_exporter": "python",
   "pygments_lexer": "ipython3",
   "version": "3.7.4"
  }
 },
 "nbformat": 4,
 "nbformat_minor": 2
}
