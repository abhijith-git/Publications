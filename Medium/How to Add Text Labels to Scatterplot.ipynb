{
 "cells": [
  {
   "cell_type": "markdown",
   "metadata": {},
   "source": [
    "# How to Add Text Labels to Scatterplot in Python (Matplotlib/Seaborn)"
   ]
  },
  {
   "cell_type": "markdown",
   "metadata": {},
   "source": [
    "### Import Libraries"
   ]
  },
  {
   "cell_type": "code",
   "execution_count": 1,
   "metadata": {
    "ExecuteTime": {
     "end_time": "2021-01-27T17:34:53.821936Z",
     "start_time": "2021-01-27T17:34:52.518136Z"
    }
   },
   "outputs": [
    {
     "name": "stderr",
     "output_type": "stream",
     "text": [
      "C:\\Users\\ABCD\\AppData\\Local\\Continuum\\anaconda3\\lib\\site-packages\\statsmodels\\tools\\_testing.py:19: FutureWarning: pandas.util.testing is deprecated. Use the functions in the public API at pandas.testing instead.\n",
      "  import pandas.util.testing as tm\n"
     ]
    }
   ],
   "source": [
    "import pandas as pd\n",
    "import numpy as np\n",
    "import seaborn as sns\n",
    "import matplotlib.pyplot as plt\n",
    "\n",
    "import warnings\n",
    "warnings.filterwarnings('ignore')"
   ]
  },
  {
   "cell_type": "markdown",
   "metadata": {},
   "source": [
    "### Prepare Dataframe"
   ]
  },
  {
   "cell_type": "code",
   "execution_count": 2,
   "metadata": {
    "ExecuteTime": {
     "end_time": "2021-01-27T17:34:53.859714Z",
     "start_time": "2021-01-27T17:34:53.821936Z"
    }
   },
   "outputs": [
    {
     "data": {
      "text/html": [
       "<div>\n",
       "<style scoped>\n",
       "    .dataframe tbody tr th:only-of-type {\n",
       "        vertical-align: middle;\n",
       "    }\n",
       "\n",
       "    .dataframe tbody tr th {\n",
       "        vertical-align: top;\n",
       "    }\n",
       "\n",
       "    .dataframe thead th {\n",
       "        text-align: right;\n",
       "    }\n",
       "</style>\n",
       "<table border=\"1\" class=\"dataframe\">\n",
       "  <thead>\n",
       "    <tr style=\"text-align: right;\">\n",
       "      <th></th>\n",
       "      <th>Team</th>\n",
       "      <th>M</th>\n",
       "      <th>P</th>\n",
       "      <th>GD</th>\n",
       "      <th>G</th>\n",
       "      <th>GA</th>\n",
       "    </tr>\n",
       "  </thead>\n",
       "  <tbody>\n",
       "    <tr>\n",
       "      <th>0</th>\n",
       "      <td>MUN</td>\n",
       "      <td>19</td>\n",
       "      <td>40</td>\n",
       "      <td>11.0</td>\n",
       "      <td>36.0</td>\n",
       "      <td>25.0</td>\n",
       "    </tr>\n",
       "    <tr>\n",
       "      <th>1</th>\n",
       "      <td>MCI</td>\n",
       "      <td>18</td>\n",
       "      <td>38</td>\n",
       "      <td>18.0</td>\n",
       "      <td>31.0</td>\n",
       "      <td>13.0</td>\n",
       "    </tr>\n",
       "    <tr>\n",
       "      <th>2</th>\n",
       "      <td>LEI</td>\n",
       "      <td>19</td>\n",
       "      <td>38</td>\n",
       "      <td>14.0</td>\n",
       "      <td>35.0</td>\n",
       "      <td>21.0</td>\n",
       "    </tr>\n",
       "    <tr>\n",
       "      <th>3</th>\n",
       "      <td>LIV</td>\n",
       "      <td>19</td>\n",
       "      <td>34</td>\n",
       "      <td>15.0</td>\n",
       "      <td>37.0</td>\n",
       "      <td>22.0</td>\n",
       "    </tr>\n",
       "    <tr>\n",
       "      <th>4</th>\n",
       "      <td>TOT</td>\n",
       "      <td>18</td>\n",
       "      <td>33</td>\n",
       "      <td>16.0</td>\n",
       "      <td>33.0</td>\n",
       "      <td>17.0</td>\n",
       "    </tr>\n",
       "    <tr>\n",
       "      <th>5</th>\n",
       "      <td>EVE</td>\n",
       "      <td>17</td>\n",
       "      <td>32</td>\n",
       "      <td>7.0</td>\n",
       "      <td>28.0</td>\n",
       "      <td>21.0</td>\n",
       "    </tr>\n",
       "  </tbody>\n",
       "</table>\n",
       "</div>"
      ],
      "text/plain": [
       "  Team   M   P    GD     G    GA\n",
       "0  MUN  19  40  11.0  36.0  25.0\n",
       "1  MCI  18  38  18.0  31.0  13.0\n",
       "2  LEI  19  38  14.0  35.0  21.0\n",
       "3  LIV  19  34  15.0  37.0  22.0\n",
       "4  TOT  18  33  16.0  33.0  17.0\n",
       "5  EVE  17  32   7.0  28.0  21.0"
      ]
     },
     "execution_count": 2,
     "metadata": {},
     "output_type": "execute_result"
    }
   ],
   "source": [
    "rec=[{'Team': 'MUN', 'M': 19, 'P': 40, 'GD': 11.0, 'G': 36.0, 'GA': 25.0},\n",
    " {'Team': 'MCI', 'M': 18, 'P': 38, 'GD': 18.0, 'G': 31.0, 'GA': 13.0},\n",
    " {'Team': 'LEI', 'M': 19, 'P': 38, 'GD': 14.0, 'G': 35.0, 'GA': 21.0},\n",
    " {'Team': 'LIV', 'M': 19, 'P': 34, 'GD': 15.0, 'G': 37.0, 'GA': 22.0},\n",
    " {'Team': 'TOT', 'M': 18, 'P': 33, 'GD': 16.0, 'G': 33.0, 'GA': 17.0},\n",
    " {'Team': 'EVE', 'M': 17, 'P': 32, 'GD': 7.0, 'G': 28.0, 'GA': 21.0}]\n",
    "\n",
    "df=pd.DataFrame(rec)\n",
    "df"
   ]
  },
  {
   "cell_type": "markdown",
   "metadata": {},
   "source": [
    "### Basic Scatterplot"
   ]
  },
  {
   "cell_type": "code",
   "execution_count": 3,
   "metadata": {
    "ExecuteTime": {
     "end_time": "2021-01-27T17:34:54.144956Z",
     "start_time": "2021-01-27T17:34:53.960007Z"
    }
   },
   "outputs": [
    {
     "data": {
      "image/png": "[encoded data removed]",
      "text/plain": [
       "<Figure size 576x360 with 1 Axes>"
      ]
     },
     "metadata": {
      "needs_background": "light"
     },
     "output_type": "display_data"
    }
   ],
   "source": [
    "plt.figure(figsize=(8,5))\n",
    "sns.scatterplot(data=df,x='G',y='GA')\n",
    "\n",
    "plt.title(\"Goals Scored vs Conceded- Top 6 Teams\") #title\n",
    "plt.xlabel(\"Goals Scored\")                         #x label\n",
    "plt.ylabel(\"Goals Conceded\")                       #y label\n",
    "plt.show()"
   ]
  },
  {
   "cell_type": "markdown",
   "metadata": {},
   "source": [
    "### Scatter Plot with Specific Labels"
   ]
  },
  {
   "cell_type": "code",
   "execution_count": 4,
   "metadata": {
    "ExecuteTime": {
     "end_time": "2021-01-27T17:34:54.762379Z",
     "start_time": "2021-01-27T17:34:54.577421Z"
    }
   },
   "outputs": [
    {
     "data": {
      "image/png": "[encoded data removed]",
      "text/plain": [
       "<Figure size 576x360 with 1 Axes>"
      ]
     },
     "metadata": {
      "needs_background": "light"
     },
     "output_type": "display_data"
    }
   ],
   "source": [
    "plt.figure(figsize=(8,5))\n",
    "sns.scatterplot(data=df,x='G',y='GA')\n",
    "\n",
    "plt.text(df.G[df.Team=='TOT'],df.GA[df.Team=='TOT'],\"TOT\", color='red')\n",
    "plt.text(df.G[df.Team=='LIV'],df.GA[df.Team=='LIV'],\"LIV\", \n",
    "         fontdict=dict(color='black', alpha=0.5, size=16))\n",
    "\n",
    "plt.title(\"Goals Scored vs Conceded- Top 6 Teams\") #title\n",
    "plt.xlabel(\"Goals Scored\")                         #x label\n",
    "plt.ylabel(\"Goals Conceded\")                       #y label\n",
    "plt.show()"
   ]
  },
  {
   "cell_type": "markdown",
   "metadata": {},
   "source": [
    "### Scatterplot with text box"
   ]
  },
  {
   "cell_type": "code",
   "execution_count": 5,
   "metadata": {
    "ExecuteTime": {
     "end_time": "2021-01-27T17:34:55.549138Z",
     "start_time": "2021-01-27T17:34:55.348555Z"
    }
   },
   "outputs": [
    {
     "data": {
      "image/png": "[encoded data removed]",
      "text/plain": [
       "<Figure size 576x360 with 1 Axes>"
      ]
     },
     "metadata": {
      "needs_background": "light"
     },
     "output_type": "display_data"
    }
   ],
   "source": [
    "plt.figure(figsize=(8,5))\n",
    "sns.scatterplot(data=df,x='G',y='GA')\n",
    "plt.text(x=df.G[df.Team=='TOT']+0.3,y=df.GA[df.Team=='TOT']+0.3,s=\"TOT\",\n",
    "         fontdict=dict(color='red',size=10),\n",
    "         bbox=dict(facecolor='yellow',alpha=0.5))\n",
    "\n",
    "plt.title(\"Goals Scored vs Conceded- Top 6 Teams\") #title\n",
    "plt.xlabel(\"Goals Scored\")                         #x label\n",
    "plt.ylabel(\"Goals Conceded\")                       #y label\n",
    "plt.show()"
   ]
  },
  {
   "cell_type": "markdown",
   "metadata": {},
   "source": [
    "### Scatter Plot with all labels"
   ]
  },
  {
   "cell_type": "code",
   "execution_count": 6,
   "metadata": {
    "ExecuteTime": {
     "end_time": "2021-01-27T17:34:56.028466Z",
     "start_time": "2021-01-27T17:34:55.850024Z"
    }
   },
   "outputs": [
    {
     "data": {
      "image/png": "[encoded data removed]",
      "text/plain": [
       "<Figure size 576x360 with 1 Axes>"
      ]
     },
     "metadata": {
      "needs_background": "light"
     },
     "output_type": "display_data"
    }
   ],
   "source": [
    "plt.figure(figsize=(8,5))\n",
    "sns.scatterplot(data=df,x='G',y='GA')\n",
    "\n",
    "for i in range(df.shape[0]):\n",
    "    plt.text(x=df.G[i]+0.3,y=df.GA[i]+0.3,s=df.Team[i], \n",
    "             fontdict=dict(color='red',size=10),\n",
    "             bbox=dict(facecolor='yellow',alpha=0.5))\n",
    "    \n",
    "plt.title(\"Goals Scored vs Conceded- Top 6 Teams\") #title\n",
    "plt.xlabel(\"Goals Scored\")    #x label\n",
    "plt.ylabel(\"Goals Conceded\")  #y label\n",
    "plt.show()"
   ]
  },
  {
   "cell_type": "markdown",
   "metadata": {},
   "source": [
    "### Padded Scatter Plot"
   ]
  },
  {
   "cell_type": "code",
   "execution_count": 7,
   "metadata": {
    "ExecuteTime": {
     "end_time": "2021-01-27T17:34:56.498682Z",
     "start_time": "2021-01-27T17:34:56.298090Z"
    }
   },
   "outputs": [
    {
     "data": {
      "image/png": "[encoded data removed]",
      "text/plain": [
       "<Figure size 576x360 with 1 Axes>"
      ]
     },
     "metadata": {
      "needs_background": "light"
     },
     "output_type": "display_data"
    }
   ],
   "source": [
    "plt.figure(figsize=(8,5))\n",
    "\n",
    "sns.scatterplot(data=df,x='G',y='GA')\n",
    "for i in range(df.shape[0]):\n",
    "    plt.text(x=df.G[i]+0.3,y=df.GA[i]+0.3,s=df.Team[i], \n",
    "             fontdict=dict(color='red',size=10),\n",
    "             bbox=dict(facecolor='yellow',alpha=0.5))\n",
    "\n",
    "plt.xlim(df.G.min()-1,df.G.max()+1)                #set x limit\n",
    "plt.ylim(df.GA.min()-1,df.GA.max()+1)              #set y limit\n",
    "\n",
    "plt.title(\"Goals Scored vs Conceded- Top 6 Teams\") #title\n",
    "plt.xlabel(\"Goals Scored\")                         #x label\n",
    "plt.ylabel(\"Goals Conceded\")                       #y label\n",
    "plt.show()"
   ]
  },
  {
   "cell_type": "markdown",
   "metadata": {},
   "source": [
    "### Thank You"
   ]
  },
  {
   "cell_type": "code",
   "execution_count": null,
   "metadata": {},
   "outputs": [],
   "source": []
  }
 ],
 "metadata": {
  "kernelspec": {
   "display_name": "Python 3",
   "language": "python",
   "name": "python3"
  },
  "language_info": {
   "codemirror_mode": {
    "name": "ipython",
    "version": 3
   },
   "file_extension": ".py",
   "mimetype": "text/x-python",
   "name": "python",
   "nbconvert_exporter": "python",
   "pygments_lexer": "ipython3",
   "version": "3.7.4"
  }
 },
 "nbformat": 4,
 "nbformat_minor": 2
}
