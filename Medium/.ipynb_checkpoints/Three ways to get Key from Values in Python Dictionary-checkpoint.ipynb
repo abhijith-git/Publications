{
 "cells": [
  {
   "cell_type": "markdown",
   "metadata": {},
   "source": [
    "### This is a supporting notebook for :<br>\n",
    "Medium article : [How to Extract Key from Python Dictionary using Value](https://towardsdatascience.com/how-to-extract-key-from-python-dictionary-using-value-2b2f8dd2a995)<br>\n",
    "Youtube video : [How to Extract Key from Python Dictionary using Value](https://studio.youtube.com/video/FJdEWjt32DU/edit)"
   ]
  },
  {
   "cell_type": "markdown",
   "metadata": {},
   "source": [
    "# Import Libraries"
   ]
  },
  {
   "cell_type": "code",
   "execution_count": 1,
   "metadata": {
    "ExecuteTime": {
     "end_time": "2021-03-07T16:13:43.033448Z",
     "start_time": "2021-03-07T16:13:42.288432Z"
    }
   },
   "outputs": [],
   "source": [
    "import pandas as pd"
   ]
  },
  {
   "cell_type": "markdown",
   "metadata": {},
   "source": [
    "# Initialize Dictionary"
   ]
  },
  {
   "cell_type": "code",
   "execution_count": 2,
   "metadata": {
    "ExecuteTime": {
     "end_time": "2021-03-07T16:13:46.391362Z",
     "start_time": "2021-03-07T16:13:46.382855Z"
    }
   },
   "outputs": [],
   "source": [
    "currency_dict={'USD':'US Dollar',\n",
    "             'EUR':'Euro',\n",
    "             'GBP':'Pound Sterling',\n",
    "              'INR':'Indian Rupee'}"
   ]
  },
  {
   "cell_type": "markdown",
   "metadata": {},
   "source": [
    "### Get value from keys"
   ]
  },
  {
   "cell_type": "code",
   "execution_count": 3,
   "metadata": {
    "ExecuteTime": {
     "end_time": "2021-03-07T16:13:51.445474Z",
     "start_time": "2021-03-07T16:13:51.431490Z"
    }
   },
   "outputs": [
    {
     "data": {
      "text/plain": [
       "'US Dollar'"
      ]
     },
     "execution_count": 3,
     "metadata": {},
     "output_type": "execute_result"
    }
   ],
   "source": [
    "currency_dict['USD']"
   ]
  },
  {
   "cell_type": "code",
   "execution_count": 4,
   "metadata": {
    "ExecuteTime": {
     "end_time": "2021-03-07T16:13:52.932828Z",
     "start_time": "2021-03-07T16:13:52.927830Z"
    }
   },
   "outputs": [
    {
     "data": {
      "text/plain": [
       "'Indian Rupee'"
      ]
     },
     "execution_count": 4,
     "metadata": {},
     "output_type": "execute_result"
    }
   ],
   "source": [
    "currency_dict['INR']"
   ]
  },
  {
   "cell_type": "markdown",
   "metadata": {},
   "source": [
    "# Method 1: Using List"
   ]
  },
  {
   "cell_type": "code",
   "execution_count": 5,
   "metadata": {
    "ExecuteTime": {
     "end_time": "2021-03-07T16:14:25.187889Z",
     "start_time": "2021-03-07T16:14:25.174903Z"
    }
   },
   "outputs": [],
   "source": [
    "val='Euro'"
   ]
  },
  {
   "cell_type": "markdown",
   "metadata": {},
   "source": [
    "### Make key list and value list"
   ]
  },
  {
   "cell_type": "code",
   "execution_count": 6,
   "metadata": {
    "ExecuteTime": {
     "end_time": "2021-03-07T16:14:26.718415Z",
     "start_time": "2021-03-07T16:14:26.712428Z"
    }
   },
   "outputs": [],
   "source": [
    "key_list=list(currency_dict.keys())\n",
    "val_list=list(currency_dict.values())"
   ]
  },
  {
   "cell_type": "code",
   "execution_count": 7,
   "metadata": {
    "ExecuteTime": {
     "end_time": "2021-03-07T16:14:46.523427Z",
     "start_time": "2021-03-07T16:14:46.511426Z"
    }
   },
   "outputs": [
    {
     "data": {
      "text/plain": [
       "['USD', 'EUR', 'GBP', 'INR']"
      ]
     },
     "execution_count": 7,
     "metadata": {},
     "output_type": "execute_result"
    }
   ],
   "source": [
    "key_list"
   ]
  },
  {
   "cell_type": "code",
   "execution_count": 8,
   "metadata": {
    "ExecuteTime": {
     "end_time": "2021-03-07T16:14:47.193477Z",
     "start_time": "2021-03-07T16:14:47.182476Z"
    }
   },
   "outputs": [
    {
     "data": {
      "text/plain": [
       "['US Dollar', 'Euro', 'Pound Sterling', 'Indian Rupee']"
      ]
     },
     "execution_count": 8,
     "metadata": {},
     "output_type": "execute_result"
    }
   ],
   "source": [
    "val_list"
   ]
  },
  {
   "cell_type": "markdown",
   "metadata": {},
   "source": [
    "### For Specific value"
   ]
  },
  {
   "cell_type": "code",
   "execution_count": 9,
   "metadata": {
    "ExecuteTime": {
     "end_time": "2021-03-07T16:14:52.897850Z",
     "start_time": "2021-03-07T16:14:52.887850Z"
    }
   },
   "outputs": [
    {
     "data": {
      "text/plain": [
       "2"
      ]
     },
     "execution_count": 9,
     "metadata": {},
     "output_type": "execute_result"
    }
   ],
   "source": [
    "#Find index of value\n",
    "val_list.index('Pound Sterling')"
   ]
  },
  {
   "cell_type": "code",
   "execution_count": 11,
   "metadata": {
    "ExecuteTime": {
     "end_time": "2021-03-07T16:15:15.896486Z",
     "start_time": "2021-03-07T16:15:15.879484Z"
    }
   },
   "outputs": [
    {
     "data": {
      "text/plain": [
       "'GBP'"
      ]
     },
     "execution_count": 11,
     "metadata": {},
     "output_type": "execute_result"
    }
   ],
   "source": [
    "ind=val_list.index('Pound Sterling')\n",
    "key_list[ind]"
   ]
  },
  {
   "cell_type": "markdown",
   "metadata": {},
   "source": [
    "### Generalize"
   ]
  },
  {
   "cell_type": "markdown",
   "metadata": {},
   "source": [
    "For any value in variable val"
   ]
  },
  {
   "cell_type": "code",
   "execution_count": 65,
   "metadata": {
    "ExecuteTime": {
     "end_time": "2021-03-07T14:40:19.009180Z",
     "start_time": "2021-03-07T14:40:18.992181Z"
    }
   },
   "outputs": [],
   "source": [
    "ind=val_list.index(val)\n",
    "key_list[ind]"
   ]
  },
  {
   "cell_type": "markdown",
   "metadata": {
    "ExecuteTime": {
     "end_time": "2021-03-07T13:54:08.181458Z",
     "start_time": "2021-03-07T13:54:08.165829Z"
    }
   },
   "source": [
    "### Single step"
   ]
  },
  {
   "cell_type": "code",
   "execution_count": 12,
   "metadata": {
    "ExecuteTime": {
     "end_time": "2021-03-07T16:16:04.880328Z",
     "start_time": "2021-03-07T16:16:04.871333Z"
    }
   },
   "outputs": [],
   "source": [
    "val='Indian Rupee'"
   ]
  },
  {
   "cell_type": "code",
   "execution_count": 13,
   "metadata": {
    "ExecuteTime": {
     "end_time": "2021-03-07T16:16:05.777757Z",
     "start_time": "2021-03-07T16:16:05.758757Z"
    }
   },
   "outputs": [
    {
     "data": {
      "text/plain": [
       "'INR'"
      ]
     },
     "execution_count": 13,
     "metadata": {},
     "output_type": "execute_result"
    }
   ],
   "source": [
    "list(currency_dict.keys())[val_list.index(val)]"
   ]
  },
  {
   "cell_type": "markdown",
   "metadata": {},
   "source": [
    "# Method 2: Using For Loop"
   ]
  },
  {
   "cell_type": "code",
   "execution_count": 14,
   "metadata": {
    "ExecuteTime": {
     "end_time": "2021-03-07T16:16:12.244089Z",
     "start_time": "2021-03-07T16:16:12.232106Z"
    }
   },
   "outputs": [
    {
     "name": "stdout",
     "output_type": "stream",
     "text": [
      "INR\n"
     ]
    }
   ],
   "source": [
    "for i in range(len(currency_dict)):\n",
    "    if val_list[i]==val:\n",
    "        print(key_list[i])"
   ]
  },
  {
   "cell_type": "markdown",
   "metadata": {
    "ExecuteTime": {
     "end_time": "2021-03-07T14:00:44.388687Z",
     "start_time": "2021-03-07T14:00:44.357828Z"
    }
   },
   "source": [
    "### Define a function"
   ]
  },
  {
   "cell_type": "code",
   "execution_count": 15,
   "metadata": {
    "ExecuteTime": {
     "end_time": "2021-03-07T16:16:19.453937Z",
     "start_time": "2021-03-07T16:16:19.446931Z"
    }
   },
   "outputs": [],
   "source": [
    "def return_key(val):\n",
    "    for i in range(len(currency_dict)):\n",
    "        if val_list[i]==val:\n",
    "            return key_list[i]\n",
    "    return 'Key Not Found'"
   ]
  },
  {
   "cell_type": "code",
   "execution_count": 17,
   "metadata": {
    "ExecuteTime": {
     "end_time": "2021-03-07T16:16:53.580716Z",
     "start_time": "2021-03-07T16:16:53.574717Z"
    }
   },
   "outputs": [
    {
     "data": {
      "text/plain": [
       "'EUR'"
      ]
     },
     "execution_count": 17,
     "metadata": {},
     "output_type": "execute_result"
    }
   ],
   "source": [
    "return_key('Euro')"
   ]
  },
  {
   "cell_type": "code",
   "execution_count": 19,
   "metadata": {
    "ExecuteTime": {
     "end_time": "2021-03-07T16:17:27.264313Z",
     "start_time": "2021-03-07T16:17:27.247325Z"
    }
   },
   "outputs": [
    {
     "data": {
      "text/plain": [
       "'Key Not Found'"
      ]
     },
     "execution_count": 19,
     "metadata": {},
     "output_type": "execute_result"
    }
   ],
   "source": [
    "return_key('Yen')"
   ]
  },
  {
   "cell_type": "markdown",
   "metadata": {
    "ExecuteTime": {
     "end_time": "2020-11-07T07:52:25.950589Z",
     "start_time": "2020-11-07T07:52:25.934950Z"
    }
   },
   "source": [
    "## Method 3: Using DataFrame"
   ]
  },
  {
   "cell_type": "markdown",
   "metadata": {},
   "source": [
    "### Create dataframe"
   ]
  },
  {
   "cell_type": "code",
   "execution_count": 20,
   "metadata": {
    "ExecuteTime": {
     "end_time": "2021-03-07T16:17:35.732494Z",
     "start_time": "2021-03-07T16:17:35.718506Z"
    }
   },
   "outputs": [],
   "source": [
    "df=pd.DataFrame({'abbr':list(currency_dict.keys()),\n",
    "                 'curr':list(currency_dict.values())})"
   ]
  },
  {
   "cell_type": "code",
   "execution_count": 21,
   "metadata": {
    "ExecuteTime": {
     "end_time": "2021-03-07T16:17:36.559050Z",
     "start_time": "2021-03-07T16:17:36.535061Z"
    }
   },
   "outputs": [
    {
     "data": {
      "text/html": [
       "<div>\n",
       "<style scoped>\n",
       "    .dataframe tbody tr th:only-of-type {\n",
       "        vertical-align: middle;\n",
       "    }\n",
       "\n",
       "    .dataframe tbody tr th {\n",
       "        vertical-align: top;\n",
       "    }\n",
       "\n",
       "    .dataframe thead th {\n",
       "        text-align: right;\n",
       "    }\n",
       "</style>\n",
       "<table border=\"1\" class=\"dataframe\">\n",
       "  <thead>\n",
       "    <tr style=\"text-align: right;\">\n",
       "      <th></th>\n",
       "      <th>abbr</th>\n",
       "      <th>curr</th>\n",
       "    </tr>\n",
       "  </thead>\n",
       "  <tbody>\n",
       "    <tr>\n",
       "      <th>0</th>\n",
       "      <td>USD</td>\n",
       "      <td>US Dollar</td>\n",
       "    </tr>\n",
       "    <tr>\n",
       "      <th>1</th>\n",
       "      <td>EUR</td>\n",
       "      <td>Euro</td>\n",
       "    </tr>\n",
       "    <tr>\n",
       "      <th>2</th>\n",
       "      <td>GBP</td>\n",
       "      <td>Pound Sterling</td>\n",
       "    </tr>\n",
       "    <tr>\n",
       "      <th>3</th>\n",
       "      <td>INR</td>\n",
       "      <td>Indian Rupee</td>\n",
       "    </tr>\n",
       "  </tbody>\n",
       "</table>\n",
       "</div>"
      ],
      "text/plain": [
       "  abbr            curr\n",
       "0  USD       US Dollar\n",
       "1  EUR            Euro\n",
       "2  GBP  Pound Sterling\n",
       "3  INR    Indian Rupee"
      ]
     },
     "execution_count": 21,
     "metadata": {},
     "output_type": "execute_result"
    }
   ],
   "source": [
    "df.head()"
   ]
  },
  {
   "cell_type": "code",
   "execution_count": 30,
   "metadata": {
    "ExecuteTime": {
     "end_time": "2021-03-07T16:19:36.376717Z",
     "start_time": "2021-03-07T16:19:36.367716Z"
    }
   },
   "outputs": [
    {
     "data": {
      "text/plain": [
       "0    USD\n",
       "Name: abbr, dtype: object"
      ]
     },
     "execution_count": 30,
     "metadata": {},
     "output_type": "execute_result"
    }
   ],
   "source": [
    "df.abbr[df.curr=='US Dollar']"
   ]
  },
  {
   "cell_type": "code",
   "execution_count": 31,
   "metadata": {
    "ExecuteTime": {
     "end_time": "2021-03-07T16:19:46.736693Z",
     "start_time": "2021-03-07T16:19:46.726706Z"
    }
   },
   "outputs": [
    {
     "data": {
      "text/plain": [
       "pandas.core.series.Series"
      ]
     },
     "execution_count": 31,
     "metadata": {},
     "output_type": "execute_result"
    }
   ],
   "source": [
    "type(df.abbr[df.curr=='US Dollar'])"
   ]
  },
  {
   "cell_type": "markdown",
   "metadata": {
    "ExecuteTime": {
     "end_time": "2021-03-07T13:46:49.257321Z",
     "start_time": "2021-03-07T13:46:49.219960Z"
    }
   },
   "source": [
    "### Obtain string from Series: 3 methods"
   ]
  },
  {
   "cell_type": "code",
   "execution_count": 16,
   "metadata": {
    "ExecuteTime": {
     "end_time": "2021-03-07T13:45:36.789334Z",
     "start_time": "2021-03-07T13:45:36.773704Z"
    }
   },
   "outputs": [
    {
     "data": {
      "text/plain": [
       "'EUR'"
      ]
     },
     "execution_count": 16,
     "metadata": {},
     "output_type": "execute_result"
    }
   ],
   "source": [
    "df.abbr[df.curr==val].unique()[0]"
   ]
  },
  {
   "cell_type": "code",
   "execution_count": 17,
   "metadata": {
    "ExecuteTime": {
     "end_time": "2021-03-07T13:45:43.651877Z",
     "start_time": "2021-03-07T13:45:43.636245Z"
    }
   },
   "outputs": [
    {
     "data": {
      "text/plain": [
       "'EUR'"
      ]
     },
     "execution_count": 17,
     "metadata": {},
     "output_type": "execute_result"
    }
   ],
   "source": [
    "df.abbr[df.curr==val].mode()[0]"
   ]
  },
  {
   "cell_type": "code",
   "execution_count": 18,
   "metadata": {
    "ExecuteTime": {
     "end_time": "2021-03-07T13:45:45.460842Z",
     "start_time": "2021-03-07T13:45:45.445211Z"
    }
   },
   "outputs": [
    {
     "data": {
      "text/plain": [
       "'EUR'"
      ]
     },
     "execution_count": 18,
     "metadata": {},
     "output_type": "execute_result"
    }
   ],
   "source": [
    "df.abbr[df.curr==val].sum()"
   ]
  },
  {
   "cell_type": "code",
   "execution_count": 33,
   "metadata": {
    "ExecuteTime": {
     "end_time": "2021-03-07T16:20:12.222364Z",
     "start_time": "2021-03-07T16:20:12.207366Z"
    },
    "scrolled": true
   },
   "outputs": [
    {
     "data": {
      "text/plain": [
       "'EUR'"
      ]
     },
     "execution_count": 33,
     "metadata": {},
     "output_type": "execute_result"
    }
   ],
   "source": [
    "df.abbr[df.curr==val].values[0]"
   ]
  },
  {
   "cell_type": "markdown",
   "metadata": {},
   "source": [
    "Follow me on [Twitter](https://twitter.com/intent/user?screen_name=abhijith_abcd) "
   ]
  }
 ],
 "metadata": {
  "kernelspec": {
   "display_name": "Python 3",
   "language": "python",
   "name": "python3"
  },
  "language_info": {
   "codemirror_mode": {
    "name": "ipython",
    "version": 3
   },
   "file_extension": ".py",
   "mimetype": "text/x-python",
   "name": "python",
   "nbconvert_exporter": "python",
   "pygments_lexer": "ipython3",
   "version": "3.7.4"
  }
 },
 "nbformat": 4,
 "nbformat_minor": 2
}
