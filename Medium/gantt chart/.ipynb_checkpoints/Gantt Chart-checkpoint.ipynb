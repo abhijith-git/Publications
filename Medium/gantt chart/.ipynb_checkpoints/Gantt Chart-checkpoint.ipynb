{
 "cells": [
  {
   "cell_type": "markdown",
   "metadata": {},
   "source": [
    "### Imports"
   ]
  },
  {
   "cell_type": "code",
   "execution_count": 1,
   "metadata": {
    "ExecuteTime": {
     "end_time": "2021-06-21T21:20:31.273436Z",
     "start_time": "2021-06-21T21:20:26.658395Z"
    }
   },
   "outputs": [],
   "source": [
    "import pandas as pd\n",
    "import matplotlib.pyplot as plt\n",
    "from datetime import timedelta\n",
    "import numpy as np\n",
    "\n",
    "plt.style.use('seaborn-darkgrid')"
   ]
  },
  {
   "cell_type": "markdown",
   "metadata": {},
   "source": [
    "### Read Data"
   ]
  },
  {
   "cell_type": "code",
   "execution_count": 2,
   "metadata": {
    "ExecuteTime": {
     "end_time": "2021-06-21T21:21:15.701499Z",
     "start_time": "2021-06-21T21:21:15.632625Z"
    }
   },
   "outputs": [
    {
     "data": {
      "text/html": [
       "<div>\n",
       "<style scoped>\n",
       "    .dataframe tbody tr th:only-of-type {\n",
       "        vertical-align: middle;\n",
       "    }\n",
       "\n",
       "    .dataframe tbody tr th {\n",
       "        vertical-align: top;\n",
       "    }\n",
       "\n",
       "    .dataframe thead th {\n",
       "        text-align: right;\n",
       "    }\n",
       "</style>\n",
       "<table border=\"1\" class=\"dataframe\">\n",
       "  <thead>\n",
       "    <tr style=\"text-align: right;\">\n",
       "      <th></th>\n",
       "      <th>Task</th>\n",
       "      <th>start</th>\n",
       "      <th>end</th>\n",
       "      <th>Department</th>\n",
       "      <th>Completion</th>\n",
       "    </tr>\n",
       "  </thead>\n",
       "  <tbody>\n",
       "    <tr>\n",
       "      <th>0</th>\n",
       "      <td>Task A</td>\n",
       "      <td>14-Jun</td>\n",
       "      <td>18-Jun</td>\n",
       "      <td>HR</td>\n",
       "      <td>100</td>\n",
       "    </tr>\n",
       "    <tr>\n",
       "      <th>1</th>\n",
       "      <td>Task B</td>\n",
       "      <td>16-Jun</td>\n",
       "      <td>24-Jun</td>\n",
       "      <td>Mkt</td>\n",
       "      <td>100</td>\n",
       "    </tr>\n",
       "    <tr>\n",
       "      <th>2</th>\n",
       "      <td>Task C</td>\n",
       "      <td>18-Jun</td>\n",
       "      <td>22-Jun</td>\n",
       "      <td>Mkt</td>\n",
       "      <td>100</td>\n",
       "    </tr>\n",
       "    <tr>\n",
       "      <th>3</th>\n",
       "      <td>Task D</td>\n",
       "      <td>22-Jun</td>\n",
       "      <td>25-Jun</td>\n",
       "      <td>Mkt</td>\n",
       "      <td>90</td>\n",
       "    </tr>\n",
       "    <tr>\n",
       "      <th>4</th>\n",
       "      <td>Task E</td>\n",
       "      <td>22-Jun</td>\n",
       "      <td>30-Jun</td>\n",
       "      <td>Fin</td>\n",
       "      <td>60</td>\n",
       "    </tr>\n",
       "    <tr>\n",
       "      <th>5</th>\n",
       "      <td>Task F</td>\n",
       "      <td>24-Jun</td>\n",
       "      <td>26-Jun</td>\n",
       "      <td>Fin</td>\n",
       "      <td>50</td>\n",
       "    </tr>\n",
       "    <tr>\n",
       "      <th>6</th>\n",
       "      <td>Task G</td>\n",
       "      <td>25-Jun</td>\n",
       "      <td>26-Jun</td>\n",
       "      <td>Mkt</td>\n",
       "      <td>20</td>\n",
       "    </tr>\n",
       "    <tr>\n",
       "      <th>7</th>\n",
       "      <td>Task H</td>\n",
       "      <td>27-Jun</td>\n",
       "      <td>30-Jun</td>\n",
       "      <td>Fin</td>\n",
       "      <td>20</td>\n",
       "    </tr>\n",
       "    <tr>\n",
       "      <th>8</th>\n",
       "      <td>Task I</td>\n",
       "      <td>27-Jun</td>\n",
       "      <td>03-Jul</td>\n",
       "      <td>Mkt</td>\n",
       "      <td>10</td>\n",
       "    </tr>\n",
       "    <tr>\n",
       "      <th>9</th>\n",
       "      <td>Task J</td>\n",
       "      <td>30-Jun</td>\n",
       "      <td>04-Jul</td>\n",
       "      <td>HR</td>\n",
       "      <td>0</td>\n",
       "    </tr>\n",
       "    <tr>\n",
       "      <th>10</th>\n",
       "      <td>Task K</td>\n",
       "      <td>04-Jul</td>\n",
       "      <td>08-Jul</td>\n",
       "      <td>Mkt</td>\n",
       "      <td>0</td>\n",
       "    </tr>\n",
       "    <tr>\n",
       "      <th>11</th>\n",
       "      <td>Task L</td>\n",
       "      <td>01-Jul</td>\n",
       "      <td>06-Jul</td>\n",
       "      <td>RnD</td>\n",
       "      <td>0</td>\n",
       "    </tr>\n",
       "  </tbody>\n",
       "</table>\n",
       "</div>"
      ],
      "text/plain": [
       "      Task   start     end Department  Completion\n",
       "0   Task A  14-Jun  18-Jun         HR         100\n",
       "1   Task B  16-Jun  24-Jun        Mkt         100\n",
       "2   Task C  18-Jun  22-Jun        Mkt         100\n",
       "3   Task D  22-Jun  25-Jun        Mkt          90\n",
       "4   Task E  22-Jun  30-Jun        Fin          60\n",
       "5   Task F  24-Jun  26-Jun        Fin          50\n",
       "6   Task G  25-Jun  26-Jun        Mkt          20\n",
       "7   Task H  27-Jun  30-Jun        Fin          20\n",
       "8   Task I  27-Jun  03-Jul        Mkt          10\n",
       "9   Task J  30-Jun  04-Jul         HR           0\n",
       "10  Task K  04-Jul  08-Jul        Mkt           0\n",
       "11  Task L  01-Jul  06-Jul        RnD           0"
      ]
     },
     "execution_count": 2,
     "metadata": {},
     "output_type": "execute_result"
    }
   ],
   "source": [
    "df=pd.read_csv('schedule.csv')\n",
    "df"
   ]
  },
  {
   "cell_type": "code",
   "execution_count": 5,
   "metadata": {
    "ExecuteTime": {
     "end_time": "2021-06-21T21:21:44.242071Z",
     "start_time": "2021-06-21T21:21:44.205143Z"
    }
   },
   "outputs": [
    {
     "name": "stdout",
     "output_type": "stream",
     "text": [
      "<class 'pandas.core.frame.DataFrame'>\n",
      "RangeIndex: 12 entries, 0 to 11\n",
      "Data columns (total 5 columns):\n",
      " #   Column      Non-Null Count  Dtype \n",
      "---  ------      --------------  ----- \n",
      " 0   Task        12 non-null     object\n",
      " 1   start       12 non-null     object\n",
      " 2   end         12 non-null     object\n",
      " 3   Department  12 non-null     object\n",
      " 4   Completion  12 non-null     int64 \n",
      "dtypes: int64(1), object(4)\n",
      "memory usage: 608.0+ bytes\n"
     ]
    }
   ],
   "source": [
    "df.info()"
   ]
  },
  {
   "cell_type": "code",
   "execution_count": 6,
   "metadata": {
    "ExecuteTime": {
     "end_time": "2021-06-21T21:22:02.798617Z",
     "start_time": "2021-06-21T21:22:02.745809Z"
    }
   },
   "outputs": [
    {
     "data": {
      "text/html": [
       "<div>\n",
       "<style scoped>\n",
       "    .dataframe tbody tr th:only-of-type {\n",
       "        vertical-align: middle;\n",
       "    }\n",
       "\n",
       "    .dataframe tbody tr th {\n",
       "        vertical-align: top;\n",
       "    }\n",
       "\n",
       "    .dataframe thead th {\n",
       "        text-align: right;\n",
       "    }\n",
       "</style>\n",
       "<table border=\"1\" class=\"dataframe\">\n",
       "  <thead>\n",
       "    <tr style=\"text-align: right;\">\n",
       "      <th></th>\n",
       "      <th>Task</th>\n",
       "      <th>start</th>\n",
       "      <th>end</th>\n",
       "      <th>Department</th>\n",
       "      <th>Completion</th>\n",
       "    </tr>\n",
       "  </thead>\n",
       "  <tbody>\n",
       "    <tr>\n",
       "      <th>0</th>\n",
       "      <td>Task A</td>\n",
       "      <td>14-Jun-2021</td>\n",
       "      <td>18-Jun-2021</td>\n",
       "      <td>HR</td>\n",
       "      <td>100</td>\n",
       "    </tr>\n",
       "    <tr>\n",
       "      <th>1</th>\n",
       "      <td>Task B</td>\n",
       "      <td>16-Jun-2021</td>\n",
       "      <td>24-Jun-2021</td>\n",
       "      <td>Mkt</td>\n",
       "      <td>100</td>\n",
       "    </tr>\n",
       "    <tr>\n",
       "      <th>2</th>\n",
       "      <td>Task C</td>\n",
       "      <td>18-Jun-2021</td>\n",
       "      <td>22-Jun-2021</td>\n",
       "      <td>Mkt</td>\n",
       "      <td>100</td>\n",
       "    </tr>\n",
       "    <tr>\n",
       "      <th>3</th>\n",
       "      <td>Task D</td>\n",
       "      <td>22-Jun-2021</td>\n",
       "      <td>25-Jun-2021</td>\n",
       "      <td>Mkt</td>\n",
       "      <td>90</td>\n",
       "    </tr>\n",
       "    <tr>\n",
       "      <th>4</th>\n",
       "      <td>Task E</td>\n",
       "      <td>22-Jun-2021</td>\n",
       "      <td>30-Jun-2021</td>\n",
       "      <td>Fin</td>\n",
       "      <td>60</td>\n",
       "    </tr>\n",
       "    <tr>\n",
       "      <th>5</th>\n",
       "      <td>Task F</td>\n",
       "      <td>24-Jun-2021</td>\n",
       "      <td>26-Jun-2021</td>\n",
       "      <td>Fin</td>\n",
       "      <td>50</td>\n",
       "    </tr>\n",
       "    <tr>\n",
       "      <th>6</th>\n",
       "      <td>Task G</td>\n",
       "      <td>25-Jun-2021</td>\n",
       "      <td>26-Jun-2021</td>\n",
       "      <td>Mkt</td>\n",
       "      <td>20</td>\n",
       "    </tr>\n",
       "    <tr>\n",
       "      <th>7</th>\n",
       "      <td>Task H</td>\n",
       "      <td>27-Jun-2021</td>\n",
       "      <td>30-Jun-2021</td>\n",
       "      <td>Fin</td>\n",
       "      <td>20</td>\n",
       "    </tr>\n",
       "    <tr>\n",
       "      <th>8</th>\n",
       "      <td>Task I</td>\n",
       "      <td>27-Jun-2021</td>\n",
       "      <td>03-Jul-2021</td>\n",
       "      <td>Mkt</td>\n",
       "      <td>10</td>\n",
       "    </tr>\n",
       "    <tr>\n",
       "      <th>9</th>\n",
       "      <td>Task J</td>\n",
       "      <td>30-Jun-2021</td>\n",
       "      <td>04-Jul-2021</td>\n",
       "      <td>HR</td>\n",
       "      <td>0</td>\n",
       "    </tr>\n",
       "    <tr>\n",
       "      <th>10</th>\n",
       "      <td>Task K</td>\n",
       "      <td>04-Jul-2021</td>\n",
       "      <td>08-Jul-2021</td>\n",
       "      <td>Mkt</td>\n",
       "      <td>0</td>\n",
       "    </tr>\n",
       "    <tr>\n",
       "      <th>11</th>\n",
       "      <td>Task L</td>\n",
       "      <td>01-Jul-2021</td>\n",
       "      <td>06-Jul-2021</td>\n",
       "      <td>RnD</td>\n",
       "      <td>0</td>\n",
       "    </tr>\n",
       "  </tbody>\n",
       "</table>\n",
       "</div>"
      ],
      "text/plain": [
       "      Task        start          end Department  Completion\n",
       "0   Task A  14-Jun-2021  18-Jun-2021         HR         100\n",
       "1   Task B  16-Jun-2021  24-Jun-2021        Mkt         100\n",
       "2   Task C  18-Jun-2021  22-Jun-2021        Mkt         100\n",
       "3   Task D  22-Jun-2021  25-Jun-2021        Mkt          90\n",
       "4   Task E  22-Jun-2021  30-Jun-2021        Fin          60\n",
       "5   Task F  24-Jun-2021  26-Jun-2021        Fin          50\n",
       "6   Task G  25-Jun-2021  26-Jun-2021        Mkt          20\n",
       "7   Task H  27-Jun-2021  30-Jun-2021        Fin          20\n",
       "8   Task I  27-Jun-2021  03-Jul-2021        Mkt          10\n",
       "9   Task J  30-Jun-2021  04-Jul-2021         HR           0\n",
       "10  Task K  04-Jul-2021  08-Jul-2021        Mkt           0\n",
       "11  Task L  01-Jul-2021  06-Jul-2021        RnD           0"
      ]
     },
     "execution_count": 6,
     "metadata": {},
     "output_type": "execute_result"
    }
   ],
   "source": [
    "df.start=df.start.apply(lambda x: x+str('-2021'))\n",
    "df.end=df.end.apply(lambda x: x+str('-2021'))\n",
    "df"
   ]
  },
  {
   "cell_type": "code",
   "execution_count": 7,
   "metadata": {
    "ExecuteTime": {
     "end_time": "2021-06-21T21:22:15.100992Z",
     "start_time": "2021-06-21T21:22:15.058408Z"
    }
   },
   "outputs": [
    {
     "data": {
      "text/html": [
       "<div>\n",
       "<style scoped>\n",
       "    .dataframe tbody tr th:only-of-type {\n",
       "        vertical-align: middle;\n",
       "    }\n",
       "\n",
       "    .dataframe tbody tr th {\n",
       "        vertical-align: top;\n",
       "    }\n",
       "\n",
       "    .dataframe thead th {\n",
       "        text-align: right;\n",
       "    }\n",
       "</style>\n",
       "<table border=\"1\" class=\"dataframe\">\n",
       "  <thead>\n",
       "    <tr style=\"text-align: right;\">\n",
       "      <th></th>\n",
       "      <th>Task</th>\n",
       "      <th>start</th>\n",
       "      <th>end</th>\n",
       "      <th>Department</th>\n",
       "      <th>Completion</th>\n",
       "    </tr>\n",
       "  </thead>\n",
       "  <tbody>\n",
       "    <tr>\n",
       "      <th>0</th>\n",
       "      <td>Task A</td>\n",
       "      <td>2021-06-14</td>\n",
       "      <td>2021-06-18</td>\n",
       "      <td>HR</td>\n",
       "      <td>100</td>\n",
       "    </tr>\n",
       "    <tr>\n",
       "      <th>1</th>\n",
       "      <td>Task B</td>\n",
       "      <td>2021-06-16</td>\n",
       "      <td>2021-06-24</td>\n",
       "      <td>Mkt</td>\n",
       "      <td>100</td>\n",
       "    </tr>\n",
       "    <tr>\n",
       "      <th>2</th>\n",
       "      <td>Task C</td>\n",
       "      <td>2021-06-18</td>\n",
       "      <td>2021-06-22</td>\n",
       "      <td>Mkt</td>\n",
       "      <td>100</td>\n",
       "    </tr>\n",
       "    <tr>\n",
       "      <th>3</th>\n",
       "      <td>Task D</td>\n",
       "      <td>2021-06-22</td>\n",
       "      <td>2021-06-25</td>\n",
       "      <td>Mkt</td>\n",
       "      <td>90</td>\n",
       "    </tr>\n",
       "    <tr>\n",
       "      <th>4</th>\n",
       "      <td>Task E</td>\n",
       "      <td>2021-06-22</td>\n",
       "      <td>2021-06-30</td>\n",
       "      <td>Fin</td>\n",
       "      <td>60</td>\n",
       "    </tr>\n",
       "    <tr>\n",
       "      <th>5</th>\n",
       "      <td>Task F</td>\n",
       "      <td>2021-06-24</td>\n",
       "      <td>2021-06-26</td>\n",
       "      <td>Fin</td>\n",
       "      <td>50</td>\n",
       "    </tr>\n",
       "    <tr>\n",
       "      <th>6</th>\n",
       "      <td>Task G</td>\n",
       "      <td>2021-06-25</td>\n",
       "      <td>2021-06-26</td>\n",
       "      <td>Mkt</td>\n",
       "      <td>20</td>\n",
       "    </tr>\n",
       "    <tr>\n",
       "      <th>7</th>\n",
       "      <td>Task H</td>\n",
       "      <td>2021-06-27</td>\n",
       "      <td>2021-06-30</td>\n",
       "      <td>Fin</td>\n",
       "      <td>20</td>\n",
       "    </tr>\n",
       "    <tr>\n",
       "      <th>8</th>\n",
       "      <td>Task I</td>\n",
       "      <td>2021-06-27</td>\n",
       "      <td>2021-07-03</td>\n",
       "      <td>Mkt</td>\n",
       "      <td>10</td>\n",
       "    </tr>\n",
       "    <tr>\n",
       "      <th>9</th>\n",
       "      <td>Task J</td>\n",
       "      <td>2021-06-30</td>\n",
       "      <td>2021-07-04</td>\n",
       "      <td>HR</td>\n",
       "      <td>0</td>\n",
       "    </tr>\n",
       "    <tr>\n",
       "      <th>10</th>\n",
       "      <td>Task K</td>\n",
       "      <td>2021-07-04</td>\n",
       "      <td>2021-07-08</td>\n",
       "      <td>Mkt</td>\n",
       "      <td>0</td>\n",
       "    </tr>\n",
       "    <tr>\n",
       "      <th>11</th>\n",
       "      <td>Task L</td>\n",
       "      <td>2021-07-01</td>\n",
       "      <td>2021-07-06</td>\n",
       "      <td>RnD</td>\n",
       "      <td>0</td>\n",
       "    </tr>\n",
       "  </tbody>\n",
       "</table>\n",
       "</div>"
      ],
      "text/plain": [
       "      Task      start        end Department  Completion\n",
       "0   Task A 2021-06-14 2021-06-18         HR         100\n",
       "1   Task B 2021-06-16 2021-06-24        Mkt         100\n",
       "2   Task C 2021-06-18 2021-06-22        Mkt         100\n",
       "3   Task D 2021-06-22 2021-06-25        Mkt          90\n",
       "4   Task E 2021-06-22 2021-06-30        Fin          60\n",
       "5   Task F 2021-06-24 2021-06-26        Fin          50\n",
       "6   Task G 2021-06-25 2021-06-26        Mkt          20\n",
       "7   Task H 2021-06-27 2021-06-30        Fin          20\n",
       "8   Task I 2021-06-27 2021-07-03        Mkt          10\n",
       "9   Task J 2021-06-30 2021-07-04         HR           0\n",
       "10  Task K 2021-07-04 2021-07-08        Mkt           0\n",
       "11  Task L 2021-07-01 2021-07-06        RnD           0"
      ]
     },
     "execution_count": 7,
     "metadata": {},
     "output_type": "execute_result"
    }
   ],
   "source": [
    "df.start=pd.to_datetime(df.start)\n",
    "df.end=pd.to_datetime(df.end)\n",
    "df"
   ]
  },
  {
   "cell_type": "code",
   "execution_count": 8,
   "metadata": {
    "ExecuteTime": {
     "end_time": "2021-06-21T21:22:47.443304Z",
     "start_time": "2021-06-21T21:22:47.405844Z"
    }
   },
   "outputs": [
    {
     "data": {
      "text/html": [
       "<div>\n",
       "<style scoped>\n",
       "    .dataframe tbody tr th:only-of-type {\n",
       "        vertical-align: middle;\n",
       "    }\n",
       "\n",
       "    .dataframe tbody tr th {\n",
       "        vertical-align: top;\n",
       "    }\n",
       "\n",
       "    .dataframe thead th {\n",
       "        text-align: right;\n",
       "    }\n",
       "</style>\n",
       "<table border=\"1\" class=\"dataframe\">\n",
       "  <thead>\n",
       "    <tr style=\"text-align: right;\">\n",
       "      <th></th>\n",
       "      <th>Task</th>\n",
       "      <th>start</th>\n",
       "      <th>end</th>\n",
       "      <th>Department</th>\n",
       "      <th>Completion</th>\n",
       "      <th>Duration</th>\n",
       "    </tr>\n",
       "  </thead>\n",
       "  <tbody>\n",
       "    <tr>\n",
       "      <th>0</th>\n",
       "      <td>Task A</td>\n",
       "      <td>2021-06-14</td>\n",
       "      <td>2021-06-18</td>\n",
       "      <td>HR</td>\n",
       "      <td>100</td>\n",
       "      <td>4 days</td>\n",
       "    </tr>\n",
       "    <tr>\n",
       "      <th>1</th>\n",
       "      <td>Task B</td>\n",
       "      <td>2021-06-16</td>\n",
       "      <td>2021-06-24</td>\n",
       "      <td>Mkt</td>\n",
       "      <td>100</td>\n",
       "      <td>8 days</td>\n",
       "    </tr>\n",
       "    <tr>\n",
       "      <th>2</th>\n",
       "      <td>Task C</td>\n",
       "      <td>2021-06-18</td>\n",
       "      <td>2021-06-22</td>\n",
       "      <td>Mkt</td>\n",
       "      <td>100</td>\n",
       "      <td>4 days</td>\n",
       "    </tr>\n",
       "    <tr>\n",
       "      <th>3</th>\n",
       "      <td>Task D</td>\n",
       "      <td>2021-06-22</td>\n",
       "      <td>2021-06-25</td>\n",
       "      <td>Mkt</td>\n",
       "      <td>90</td>\n",
       "      <td>3 days</td>\n",
       "    </tr>\n",
       "    <tr>\n",
       "      <th>4</th>\n",
       "      <td>Task E</td>\n",
       "      <td>2021-06-22</td>\n",
       "      <td>2021-06-30</td>\n",
       "      <td>Fin</td>\n",
       "      <td>60</td>\n",
       "      <td>8 days</td>\n",
       "    </tr>\n",
       "    <tr>\n",
       "      <th>5</th>\n",
       "      <td>Task F</td>\n",
       "      <td>2021-06-24</td>\n",
       "      <td>2021-06-26</td>\n",
       "      <td>Fin</td>\n",
       "      <td>50</td>\n",
       "      <td>2 days</td>\n",
       "    </tr>\n",
       "    <tr>\n",
       "      <th>6</th>\n",
       "      <td>Task G</td>\n",
       "      <td>2021-06-25</td>\n",
       "      <td>2021-06-26</td>\n",
       "      <td>Mkt</td>\n",
       "      <td>20</td>\n",
       "      <td>1 days</td>\n",
       "    </tr>\n",
       "    <tr>\n",
       "      <th>7</th>\n",
       "      <td>Task H</td>\n",
       "      <td>2021-06-27</td>\n",
       "      <td>2021-06-30</td>\n",
       "      <td>Fin</td>\n",
       "      <td>20</td>\n",
       "      <td>3 days</td>\n",
       "    </tr>\n",
       "    <tr>\n",
       "      <th>8</th>\n",
       "      <td>Task I</td>\n",
       "      <td>2021-06-27</td>\n",
       "      <td>2021-07-03</td>\n",
       "      <td>Mkt</td>\n",
       "      <td>10</td>\n",
       "      <td>6 days</td>\n",
       "    </tr>\n",
       "    <tr>\n",
       "      <th>9</th>\n",
       "      <td>Task J</td>\n",
       "      <td>2021-06-30</td>\n",
       "      <td>2021-07-04</td>\n",
       "      <td>HR</td>\n",
       "      <td>0</td>\n",
       "      <td>4 days</td>\n",
       "    </tr>\n",
       "    <tr>\n",
       "      <th>10</th>\n",
       "      <td>Task K</td>\n",
       "      <td>2021-07-04</td>\n",
       "      <td>2021-07-08</td>\n",
       "      <td>Mkt</td>\n",
       "      <td>0</td>\n",
       "      <td>4 days</td>\n",
       "    </tr>\n",
       "    <tr>\n",
       "      <th>11</th>\n",
       "      <td>Task L</td>\n",
       "      <td>2021-07-01</td>\n",
       "      <td>2021-07-06</td>\n",
       "      <td>RnD</td>\n",
       "      <td>0</td>\n",
       "      <td>5 days</td>\n",
       "    </tr>\n",
       "  </tbody>\n",
       "</table>\n",
       "</div>"
      ],
      "text/plain": [
       "      Task      start        end Department  Completion Duration\n",
       "0   Task A 2021-06-14 2021-06-18         HR         100   4 days\n",
       "1   Task B 2021-06-16 2021-06-24        Mkt         100   8 days\n",
       "2   Task C 2021-06-18 2021-06-22        Mkt         100   4 days\n",
       "3   Task D 2021-06-22 2021-06-25        Mkt          90   3 days\n",
       "4   Task E 2021-06-22 2021-06-30        Fin          60   8 days\n",
       "5   Task F 2021-06-24 2021-06-26        Fin          50   2 days\n",
       "6   Task G 2021-06-25 2021-06-26        Mkt          20   1 days\n",
       "7   Task H 2021-06-27 2021-06-30        Fin          20   3 days\n",
       "8   Task I 2021-06-27 2021-07-03        Mkt          10   6 days\n",
       "9   Task J 2021-06-30 2021-07-04         HR           0   4 days\n",
       "10  Task K 2021-07-04 2021-07-08        Mkt           0   4 days\n",
       "11  Task L 2021-07-01 2021-07-06        RnD           0   5 days"
      ]
     },
     "execution_count": 8,
     "metadata": {},
     "output_type": "execute_result"
    }
   ],
   "source": [
    "df['Duration']=df.end-df.start\n",
    "df"
   ]
  },
  {
   "cell_type": "code",
   "execution_count": 9,
   "metadata": {
    "ExecuteTime": {
     "end_time": "2021-06-21T21:22:54.431381Z",
     "start_time": "2021-06-21T21:22:54.400103Z"
    }
   },
   "outputs": [
    {
     "data": {
      "text/html": [
       "<div>\n",
       "<style scoped>\n",
       "    .dataframe tbody tr th:only-of-type {\n",
       "        vertical-align: middle;\n",
       "    }\n",
       "\n",
       "    .dataframe tbody tr th {\n",
       "        vertical-align: top;\n",
       "    }\n",
       "\n",
       "    .dataframe thead th {\n",
       "        text-align: right;\n",
       "    }\n",
       "</style>\n",
       "<table border=\"1\" class=\"dataframe\">\n",
       "  <thead>\n",
       "    <tr style=\"text-align: right;\">\n",
       "      <th></th>\n",
       "      <th>Task</th>\n",
       "      <th>start</th>\n",
       "      <th>end</th>\n",
       "      <th>Department</th>\n",
       "      <th>Completion</th>\n",
       "      <th>Duration</th>\n",
       "    </tr>\n",
       "  </thead>\n",
       "  <tbody>\n",
       "    <tr>\n",
       "      <th>0</th>\n",
       "      <td>Task A</td>\n",
       "      <td>2021-06-14</td>\n",
       "      <td>2021-06-18</td>\n",
       "      <td>HR</td>\n",
       "      <td>100</td>\n",
       "      <td>5</td>\n",
       "    </tr>\n",
       "    <tr>\n",
       "      <th>1</th>\n",
       "      <td>Task B</td>\n",
       "      <td>2021-06-16</td>\n",
       "      <td>2021-06-24</td>\n",
       "      <td>Mkt</td>\n",
       "      <td>100</td>\n",
       "      <td>9</td>\n",
       "    </tr>\n",
       "    <tr>\n",
       "      <th>2</th>\n",
       "      <td>Task C</td>\n",
       "      <td>2021-06-18</td>\n",
       "      <td>2021-06-22</td>\n",
       "      <td>Mkt</td>\n",
       "      <td>100</td>\n",
       "      <td>5</td>\n",
       "    </tr>\n",
       "    <tr>\n",
       "      <th>3</th>\n",
       "      <td>Task D</td>\n",
       "      <td>2021-06-22</td>\n",
       "      <td>2021-06-25</td>\n",
       "      <td>Mkt</td>\n",
       "      <td>90</td>\n",
       "      <td>4</td>\n",
       "    </tr>\n",
       "    <tr>\n",
       "      <th>4</th>\n",
       "      <td>Task E</td>\n",
       "      <td>2021-06-22</td>\n",
       "      <td>2021-06-30</td>\n",
       "      <td>Fin</td>\n",
       "      <td>60</td>\n",
       "      <td>9</td>\n",
       "    </tr>\n",
       "    <tr>\n",
       "      <th>5</th>\n",
       "      <td>Task F</td>\n",
       "      <td>2021-06-24</td>\n",
       "      <td>2021-06-26</td>\n",
       "      <td>Fin</td>\n",
       "      <td>50</td>\n",
       "      <td>3</td>\n",
       "    </tr>\n",
       "    <tr>\n",
       "      <th>6</th>\n",
       "      <td>Task G</td>\n",
       "      <td>2021-06-25</td>\n",
       "      <td>2021-06-26</td>\n",
       "      <td>Mkt</td>\n",
       "      <td>20</td>\n",
       "      <td>2</td>\n",
       "    </tr>\n",
       "    <tr>\n",
       "      <th>7</th>\n",
       "      <td>Task H</td>\n",
       "      <td>2021-06-27</td>\n",
       "      <td>2021-06-30</td>\n",
       "      <td>Fin</td>\n",
       "      <td>20</td>\n",
       "      <td>4</td>\n",
       "    </tr>\n",
       "    <tr>\n",
       "      <th>8</th>\n",
       "      <td>Task I</td>\n",
       "      <td>2021-06-27</td>\n",
       "      <td>2021-07-03</td>\n",
       "      <td>Mkt</td>\n",
       "      <td>10</td>\n",
       "      <td>7</td>\n",
       "    </tr>\n",
       "    <tr>\n",
       "      <th>9</th>\n",
       "      <td>Task J</td>\n",
       "      <td>2021-06-30</td>\n",
       "      <td>2021-07-04</td>\n",
       "      <td>HR</td>\n",
       "      <td>0</td>\n",
       "      <td>5</td>\n",
       "    </tr>\n",
       "    <tr>\n",
       "      <th>10</th>\n",
       "      <td>Task K</td>\n",
       "      <td>2021-07-04</td>\n",
       "      <td>2021-07-08</td>\n",
       "      <td>Mkt</td>\n",
       "      <td>0</td>\n",
       "      <td>5</td>\n",
       "    </tr>\n",
       "    <tr>\n",
       "      <th>11</th>\n",
       "      <td>Task L</td>\n",
       "      <td>2021-07-01</td>\n",
       "      <td>2021-07-06</td>\n",
       "      <td>RnD</td>\n",
       "      <td>0</td>\n",
       "      <td>6</td>\n",
       "    </tr>\n",
       "  </tbody>\n",
       "</table>\n",
       "</div>"
      ],
      "text/plain": [
       "      Task      start        end Department  Completion  Duration\n",
       "0   Task A 2021-06-14 2021-06-18         HR         100         5\n",
       "1   Task B 2021-06-16 2021-06-24        Mkt         100         9\n",
       "2   Task C 2021-06-18 2021-06-22        Mkt         100         5\n",
       "3   Task D 2021-06-22 2021-06-25        Mkt          90         4\n",
       "4   Task E 2021-06-22 2021-06-30        Fin          60         9\n",
       "5   Task F 2021-06-24 2021-06-26        Fin          50         3\n",
       "6   Task G 2021-06-25 2021-06-26        Mkt          20         2\n",
       "7   Task H 2021-06-27 2021-06-30        Fin          20         4\n",
       "8   Task I 2021-06-27 2021-07-03        Mkt          10         7\n",
       "9   Task J 2021-06-30 2021-07-04         HR           0         5\n",
       "10  Task K 2021-07-04 2021-07-08        Mkt           0         5\n",
       "11  Task L 2021-07-01 2021-07-06        RnD           0         6"
      ]
     },
     "execution_count": 9,
     "metadata": {},
     "output_type": "execute_result"
    }
   ],
   "source": [
    "df.Duration=df.Duration.apply(lambda x: x.days+1)\n",
    "df"
   ]
  },
  {
   "cell_type": "code",
   "execution_count": 10,
   "metadata": {
    "ExecuteTime": {
     "end_time": "2021-06-21T21:24:31.566750Z",
     "start_time": "2021-06-21T21:24:31.543945Z"
    }
   },
   "outputs": [
    {
     "name": "stdout",
     "output_type": "stream",
     "text": [
      "Project start date : 2021-06-14 00:00:00\n",
      "Project end date : 2021-07-08 00:00:00\n",
      "Project duration : 25\n"
     ]
    }
   ],
   "source": [
    "project_start_date=df.start.min()\n",
    "project_end_date=df.end.max()\n",
    "project_duration=(project_end_date-project_start_date).days+1\n",
    "\n",
    "print('Project start date :', project_start_date)\n",
    "print('Project end date :', project_end_date)\n",
    "print('Project duration :', project_duration)"
   ]
  },
  {
   "cell_type": "code",
   "execution_count": 11,
   "metadata": {
    "ExecuteTime": {
     "end_time": "2021-06-21T21:25:25.442410Z",
     "start_time": "2021-06-21T21:25:25.393598Z"
    }
   },
   "outputs": [
    {
     "data": {
      "text/html": [
       "<div>\n",
       "<style scoped>\n",
       "    .dataframe tbody tr th:only-of-type {\n",
       "        vertical-align: middle;\n",
       "    }\n",
       "\n",
       "    .dataframe tbody tr th {\n",
       "        vertical-align: top;\n",
       "    }\n",
       "\n",
       "    .dataframe thead th {\n",
       "        text-align: right;\n",
       "    }\n",
       "</style>\n",
       "<table border=\"1\" class=\"dataframe\">\n",
       "  <thead>\n",
       "    <tr style=\"text-align: right;\">\n",
       "      <th></th>\n",
       "      <th>Task</th>\n",
       "      <th>start</th>\n",
       "      <th>end</th>\n",
       "      <th>Department</th>\n",
       "      <th>Completion</th>\n",
       "      <th>Duration</th>\n",
       "      <th>rel_start</th>\n",
       "    </tr>\n",
       "  </thead>\n",
       "  <tbody>\n",
       "    <tr>\n",
       "      <th>0</th>\n",
       "      <td>Task A</td>\n",
       "      <td>2021-06-14</td>\n",
       "      <td>2021-06-18</td>\n",
       "      <td>HR</td>\n",
       "      <td>100</td>\n",
       "      <td>5</td>\n",
       "      <td>0</td>\n",
       "    </tr>\n",
       "    <tr>\n",
       "      <th>1</th>\n",
       "      <td>Task B</td>\n",
       "      <td>2021-06-16</td>\n",
       "      <td>2021-06-24</td>\n",
       "      <td>Mkt</td>\n",
       "      <td>100</td>\n",
       "      <td>9</td>\n",
       "      <td>2</td>\n",
       "    </tr>\n",
       "    <tr>\n",
       "      <th>2</th>\n",
       "      <td>Task C</td>\n",
       "      <td>2021-06-18</td>\n",
       "      <td>2021-06-22</td>\n",
       "      <td>Mkt</td>\n",
       "      <td>100</td>\n",
       "      <td>5</td>\n",
       "      <td>4</td>\n",
       "    </tr>\n",
       "    <tr>\n",
       "      <th>3</th>\n",
       "      <td>Task D</td>\n",
       "      <td>2021-06-22</td>\n",
       "      <td>2021-06-25</td>\n",
       "      <td>Mkt</td>\n",
       "      <td>90</td>\n",
       "      <td>4</td>\n",
       "      <td>8</td>\n",
       "    </tr>\n",
       "    <tr>\n",
       "      <th>4</th>\n",
       "      <td>Task E</td>\n",
       "      <td>2021-06-22</td>\n",
       "      <td>2021-06-30</td>\n",
       "      <td>Fin</td>\n",
       "      <td>60</td>\n",
       "      <td>9</td>\n",
       "      <td>8</td>\n",
       "    </tr>\n",
       "    <tr>\n",
       "      <th>5</th>\n",
       "      <td>Task F</td>\n",
       "      <td>2021-06-24</td>\n",
       "      <td>2021-06-26</td>\n",
       "      <td>Fin</td>\n",
       "      <td>50</td>\n",
       "      <td>3</td>\n",
       "      <td>10</td>\n",
       "    </tr>\n",
       "    <tr>\n",
       "      <th>6</th>\n",
       "      <td>Task G</td>\n",
       "      <td>2021-06-25</td>\n",
       "      <td>2021-06-26</td>\n",
       "      <td>Mkt</td>\n",
       "      <td>20</td>\n",
       "      <td>2</td>\n",
       "      <td>11</td>\n",
       "    </tr>\n",
       "    <tr>\n",
       "      <th>7</th>\n",
       "      <td>Task H</td>\n",
       "      <td>2021-06-27</td>\n",
       "      <td>2021-06-30</td>\n",
       "      <td>Fin</td>\n",
       "      <td>20</td>\n",
       "      <td>4</td>\n",
       "      <td>13</td>\n",
       "    </tr>\n",
       "    <tr>\n",
       "      <th>8</th>\n",
       "      <td>Task I</td>\n",
       "      <td>2021-06-27</td>\n",
       "      <td>2021-07-03</td>\n",
       "      <td>Mkt</td>\n",
       "      <td>10</td>\n",
       "      <td>7</td>\n",
       "      <td>13</td>\n",
       "    </tr>\n",
       "    <tr>\n",
       "      <th>9</th>\n",
       "      <td>Task J</td>\n",
       "      <td>2021-06-30</td>\n",
       "      <td>2021-07-04</td>\n",
       "      <td>HR</td>\n",
       "      <td>0</td>\n",
       "      <td>5</td>\n",
       "      <td>16</td>\n",
       "    </tr>\n",
       "    <tr>\n",
       "      <th>10</th>\n",
       "      <td>Task K</td>\n",
       "      <td>2021-07-04</td>\n",
       "      <td>2021-07-08</td>\n",
       "      <td>Mkt</td>\n",
       "      <td>0</td>\n",
       "      <td>5</td>\n",
       "      <td>20</td>\n",
       "    </tr>\n",
       "    <tr>\n",
       "      <th>11</th>\n",
       "      <td>Task L</td>\n",
       "      <td>2021-07-01</td>\n",
       "      <td>2021-07-06</td>\n",
       "      <td>RnD</td>\n",
       "      <td>0</td>\n",
       "      <td>6</td>\n",
       "      <td>17</td>\n",
       "    </tr>\n",
       "  </tbody>\n",
       "</table>\n",
       "</div>"
      ],
      "text/plain": [
       "      Task      start        end Department  Completion  Duration  rel_start\n",
       "0   Task A 2021-06-14 2021-06-18         HR         100         5          0\n",
       "1   Task B 2021-06-16 2021-06-24        Mkt         100         9          2\n",
       "2   Task C 2021-06-18 2021-06-22        Mkt         100         5          4\n",
       "3   Task D 2021-06-22 2021-06-25        Mkt          90         4          8\n",
       "4   Task E 2021-06-22 2021-06-30        Fin          60         9          8\n",
       "5   Task F 2021-06-24 2021-06-26        Fin          50         3         10\n",
       "6   Task G 2021-06-25 2021-06-26        Mkt          20         2         11\n",
       "7   Task H 2021-06-27 2021-06-30        Fin          20         4         13\n",
       "8   Task I 2021-06-27 2021-07-03        Mkt          10         7         13\n",
       "9   Task J 2021-06-30 2021-07-04         HR           0         5         16\n",
       "10  Task K 2021-07-04 2021-07-08        Mkt           0         5         20\n",
       "11  Task L 2021-07-01 2021-07-06        RnD           0         6         17"
      ]
     },
     "execution_count": 11,
     "metadata": {},
     "output_type": "execute_result"
    }
   ],
   "source": [
    "df['rel_start']=df.start-project_start_date\n",
    "df.rel_start=df.rel_start.apply(lambda x:x.days)\n",
    "df"
   ]
  },
  {
   "cell_type": "code",
   "execution_count": 12,
   "metadata": {
    "ExecuteTime": {
     "end_time": "2021-06-21T21:25:45.065753Z",
     "start_time": "2021-06-21T21:25:45.045184Z"
    }
   },
   "outputs": [],
   "source": [
    "xlabels=[(project_start_date+timedelta(days=x)).strftime(\"%Y-%b-%d\") for x in range(project_duration+1)]"
   ]
  },
  {
   "cell_type": "code",
   "execution_count": 13,
   "metadata": {
    "ExecuteTime": {
     "end_time": "2021-06-21T21:25:45.660098Z",
     "start_time": "2021-06-21T21:25:45.630948Z"
    }
   },
   "outputs": [],
   "source": [
    "xticks=[i for i in range(project_duration+1)]"
   ]
  },
  {
   "cell_type": "code",
   "execution_count": 14,
   "metadata": {
    "ExecuteTime": {
     "end_time": "2021-06-21T21:26:12.126064Z",
     "start_time": "2021-06-21T21:26:12.095914Z"
    }
   },
   "outputs": [],
   "source": [
    "frequency=len(xticks)//5"
   ]
  },
  {
   "cell_type": "code",
   "execution_count": 15,
   "metadata": {
    "ExecuteTime": {
     "end_time": "2021-06-21T21:26:15.318258Z",
     "start_time": "2021-06-21T21:26:15.017299Z"
    }
   },
   "outputs": [
    {
     "data": {
      "image/png": "[encoded data removed]",
      "text/plain": [
       "<Figure size 720x360 with 1 Axes>"
      ]
     },
     "metadata": {
      "needs_background": "light"
     },
     "output_type": "display_data"
    }
   ],
   "source": [
    "plt.figure(figsize=(10,5))\n",
    "plt.barh(df.Task, left=df.rel_start, width=df.Duration)\n",
    "plt.gca().invert_yaxis()\n",
    "\n",
    "plt.xticks(ticks=xticks[::frequency],labels=xlabels[::frequency], rotation=45)\n",
    "plt.grid(which='both', axis='x')\n",
    "plt.show()"
   ]
  },
  {
   "cell_type": "code",
   "execution_count": 16,
   "metadata": {
    "ExecuteTime": {
     "end_time": "2021-06-21T21:26:18.949445Z",
     "start_time": "2021-06-21T21:26:18.933812Z"
    }
   },
   "outputs": [],
   "source": [
    "yticks=[x for x in range(len(df.Task))]"
   ]
  },
  {
   "cell_type": "code",
   "execution_count": 17,
   "metadata": {
    "ExecuteTime": {
     "end_time": "2021-06-21T21:26:45.021968Z",
     "start_time": "2021-06-21T21:26:44.766200Z"
    }
   },
   "outputs": [
    {
     "data": {
      "image/png": "[encoded data removed]",
      "text/plain": [
       "<Figure size 720x432 with 1 Axes>"
      ]
     },
     "metadata": {
      "needs_background": "light"
     },
     "output_type": "display_data"
    }
   ],
   "source": [
    "plt.figure(figsize=(10,6))\n",
    "\n",
    "plt.barh(yticks, left=df.rel_start, width=df.Duration)\n",
    "\n",
    "plt.ylim(max(yticks)+1, min(yticks)-1)\n",
    "plt.yticks(yticks, df.Task)\n",
    "\n",
    "plt.xticks(xticks[::5], xlabels[::5])\n",
    "plt.grid(axis='x')\n",
    "plt.show()"
   ]
  },
  {
   "cell_type": "code",
   "execution_count": 18,
   "metadata": {
    "ExecuteTime": {
     "end_time": "2021-06-21T21:27:38.014049Z",
     "start_time": "2021-06-21T21:27:37.730497Z"
    }
   },
   "outputs": [
    {
     "data": {
      "image/png": "[encoded data removed]",
      "text/plain": [
       "<Figure size 720x432 with 1 Axes>"
      ]
     },
     "metadata": {
      "needs_background": "light"
     },
     "output_type": "display_data"
    }
   ],
   "source": [
    "plt.figure(figsize=(10,6))\n",
    "\n",
    "for i in yticks:\n",
    "    if df.Department[i]=='Fin':\n",
    "        col='red'\n",
    "    else:\n",
    "        col='blue'\n",
    "    plt.barh(yticks[i], left=df.rel_start[i], width=df.Duration[i], color=col, alpha=0.2)\n",
    "\n",
    "plt.ylim(max(yticks)+1, min(yticks)-1)\n",
    "plt.yticks(yticks, df.Task)\n",
    "\n",
    "plt.xticks(xticks[::5], xlabels[::5])\n",
    "plt.grid(axis='x')\n",
    "plt.show()"
   ]
  },
  {
   "cell_type": "code",
   "execution_count": 19,
   "metadata": {
    "ExecuteTime": {
     "end_time": "2021-06-21T21:27:54.319082Z",
     "start_time": "2021-06-21T21:27:54.167126Z"
    }
   },
   "outputs": [
    {
     "data": {
      "text/html": [
       "<div>\n",
       "<style scoped>\n",
       "    .dataframe tbody tr th:only-of-type {\n",
       "        vertical-align: middle;\n",
       "    }\n",
       "\n",
       "    .dataframe tbody tr th {\n",
       "        vertical-align: top;\n",
       "    }\n",
       "\n",
       "    .dataframe thead th {\n",
       "        text-align: right;\n",
       "    }\n",
       "</style>\n",
       "<table border=\"1\" class=\"dataframe\">\n",
       "  <thead>\n",
       "    <tr style=\"text-align: right;\">\n",
       "      <th></th>\n",
       "      <th>Task</th>\n",
       "      <th>start</th>\n",
       "      <th>end</th>\n",
       "      <th>Department</th>\n",
       "      <th>Completion</th>\n",
       "      <th>Duration</th>\n",
       "      <th>rel_start</th>\n",
       "      <th>comp</th>\n",
       "    </tr>\n",
       "  </thead>\n",
       "  <tbody>\n",
       "    <tr>\n",
       "      <th>0</th>\n",
       "      <td>Task A</td>\n",
       "      <td>2021-06-14</td>\n",
       "      <td>2021-06-18</td>\n",
       "      <td>HR</td>\n",
       "      <td>100</td>\n",
       "      <td>5</td>\n",
       "      <td>0</td>\n",
       "      <td>5.0</td>\n",
       "    </tr>\n",
       "    <tr>\n",
       "      <th>1</th>\n",
       "      <td>Task B</td>\n",
       "      <td>2021-06-16</td>\n",
       "      <td>2021-06-24</td>\n",
       "      <td>Mkt</td>\n",
       "      <td>100</td>\n",
       "      <td>9</td>\n",
       "      <td>2</td>\n",
       "      <td>9.0</td>\n",
       "    </tr>\n",
       "    <tr>\n",
       "      <th>2</th>\n",
       "      <td>Task C</td>\n",
       "      <td>2021-06-18</td>\n",
       "      <td>2021-06-22</td>\n",
       "      <td>Mkt</td>\n",
       "      <td>100</td>\n",
       "      <td>5</td>\n",
       "      <td>4</td>\n",
       "      <td>5.0</td>\n",
       "    </tr>\n",
       "    <tr>\n",
       "      <th>3</th>\n",
       "      <td>Task D</td>\n",
       "      <td>2021-06-22</td>\n",
       "      <td>2021-06-25</td>\n",
       "      <td>Mkt</td>\n",
       "      <td>90</td>\n",
       "      <td>4</td>\n",
       "      <td>8</td>\n",
       "      <td>3.6</td>\n",
       "    </tr>\n",
       "    <tr>\n",
       "      <th>4</th>\n",
       "      <td>Task E</td>\n",
       "      <td>2021-06-22</td>\n",
       "      <td>2021-06-30</td>\n",
       "      <td>Fin</td>\n",
       "      <td>60</td>\n",
       "      <td>9</td>\n",
       "      <td>8</td>\n",
       "      <td>5.4</td>\n",
       "    </tr>\n",
       "    <tr>\n",
       "      <th>5</th>\n",
       "      <td>Task F</td>\n",
       "      <td>2021-06-24</td>\n",
       "      <td>2021-06-26</td>\n",
       "      <td>Fin</td>\n",
       "      <td>50</td>\n",
       "      <td>3</td>\n",
       "      <td>10</td>\n",
       "      <td>1.5</td>\n",
       "    </tr>\n",
       "    <tr>\n",
       "      <th>6</th>\n",
       "      <td>Task G</td>\n",
       "      <td>2021-06-25</td>\n",
       "      <td>2021-06-26</td>\n",
       "      <td>Mkt</td>\n",
       "      <td>20</td>\n",
       "      <td>2</td>\n",
       "      <td>11</td>\n",
       "      <td>0.4</td>\n",
       "    </tr>\n",
       "    <tr>\n",
       "      <th>7</th>\n",
       "      <td>Task H</td>\n",
       "      <td>2021-06-27</td>\n",
       "      <td>2021-06-30</td>\n",
       "      <td>Fin</td>\n",
       "      <td>20</td>\n",
       "      <td>4</td>\n",
       "      <td>13</td>\n",
       "      <td>0.8</td>\n",
       "    </tr>\n",
       "    <tr>\n",
       "      <th>8</th>\n",
       "      <td>Task I</td>\n",
       "      <td>2021-06-27</td>\n",
       "      <td>2021-07-03</td>\n",
       "      <td>Mkt</td>\n",
       "      <td>10</td>\n",
       "      <td>7</td>\n",
       "      <td>13</td>\n",
       "      <td>0.7</td>\n",
       "    </tr>\n",
       "    <tr>\n",
       "      <th>9</th>\n",
       "      <td>Task J</td>\n",
       "      <td>2021-06-30</td>\n",
       "      <td>2021-07-04</td>\n",
       "      <td>HR</td>\n",
       "      <td>0</td>\n",
       "      <td>5</td>\n",
       "      <td>16</td>\n",
       "      <td>0.0</td>\n",
       "    </tr>\n",
       "    <tr>\n",
       "      <th>10</th>\n",
       "      <td>Task K</td>\n",
       "      <td>2021-07-04</td>\n",
       "      <td>2021-07-08</td>\n",
       "      <td>Mkt</td>\n",
       "      <td>0</td>\n",
       "      <td>5</td>\n",
       "      <td>20</td>\n",
       "      <td>0.0</td>\n",
       "    </tr>\n",
       "    <tr>\n",
       "      <th>11</th>\n",
       "      <td>Task L</td>\n",
       "      <td>2021-07-01</td>\n",
       "      <td>2021-07-06</td>\n",
       "      <td>RnD</td>\n",
       "      <td>0</td>\n",
       "      <td>6</td>\n",
       "      <td>17</td>\n",
       "      <td>0.0</td>\n",
       "    </tr>\n",
       "  </tbody>\n",
       "</table>\n",
       "</div>"
      ],
      "text/plain": [
       "      Task      start        end Department  Completion  Duration  rel_start  \\\n",
       "0   Task A 2021-06-14 2021-06-18         HR         100         5          0   \n",
       "1   Task B 2021-06-16 2021-06-24        Mkt         100         9          2   \n",
       "2   Task C 2021-06-18 2021-06-22        Mkt         100         5          4   \n",
       "3   Task D 2021-06-22 2021-06-25        Mkt          90         4          8   \n",
       "4   Task E 2021-06-22 2021-06-30        Fin          60         9          8   \n",
       "5   Task F 2021-06-24 2021-06-26        Fin          50         3         10   \n",
       "6   Task G 2021-06-25 2021-06-26        Mkt          20         2         11   \n",
       "7   Task H 2021-06-27 2021-06-30        Fin          20         4         13   \n",
       "8   Task I 2021-06-27 2021-07-03        Mkt          10         7         13   \n",
       "9   Task J 2021-06-30 2021-07-04         HR           0         5         16   \n",
       "10  Task K 2021-07-04 2021-07-08        Mkt           0         5         20   \n",
       "11  Task L 2021-07-01 2021-07-06        RnD           0         6         17   \n",
       "\n",
       "    comp  \n",
       "0    5.0  \n",
       "1    9.0  \n",
       "2    5.0  \n",
       "3    3.6  \n",
       "4    5.4  \n",
       "5    1.5  \n",
       "6    0.4  \n",
       "7    0.8  \n",
       "8    0.7  \n",
       "9    0.0  \n",
       "10   0.0  \n",
       "11   0.0  "
      ]
     },
     "execution_count": 19,
     "metadata": {},
     "output_type": "execute_result"
    }
   ],
   "source": [
    "df['comp']=round(df.Completion*df.Duration/100,2)\n",
    "df"
   ]
  },
  {
   "cell_type": "code",
   "execution_count": 20,
   "metadata": {
    "ExecuteTime": {
     "end_time": "2021-06-21T21:28:02.927771Z",
     "start_time": "2021-06-21T21:28:02.614723Z"
    },
    "scrolled": true
   },
   "outputs": [
    {
     "data": {
      "image/png": "[encoded data removed]",
      "text/plain": [
       "<Figure size 720x432 with 1 Axes>"
      ]
     },
     "metadata": {
      "needs_background": "light"
     },
     "output_type": "display_data"
    }
   ],
   "source": [
    "plt.figure(figsize=(10,6))\n",
    "\n",
    "for i in yticks:\n",
    "    if df.Department[i]=='Fin':\n",
    "        col='red'\n",
    "    else:\n",
    "        col='blue'\n",
    "    plt.barh(yticks[i], left=df.rel_start[i], width=df.Duration[i], color=col, alpha=0.4)\n",
    "    plt.barh(yticks[i], left=df.rel_start[i], width=df.comp[i], color=col, alpha=1)\n",
    "\n",
    "plt.ylim(max(yticks)+1, min(yticks)-1)\n",
    "plt.yticks(yticks, df.Task)\n",
    "\n",
    "plt.xticks(xticks[::5], xlabels[::5])\n",
    "plt.show()"
   ]
  },
  {
   "cell_type": "code",
   "execution_count": 21,
   "metadata": {
    "ExecuteTime": {
     "end_time": "2021-06-21T21:28:18.962659Z",
     "start_time": "2021-06-21T21:28:18.946980Z"
    }
   },
   "outputs": [],
   "source": [
    "color_dict={'HR':'red', 'Mkt':'blue', 'Fin':'green', 'RnD':'aqua'}"
   ]
  },
  {
   "cell_type": "code",
   "execution_count": 22,
   "metadata": {
    "ExecuteTime": {
     "end_time": "2021-06-21T21:28:22.752017Z",
     "start_time": "2021-06-21T21:28:22.272603Z"
    }
   },
   "outputs": [
    {
     "data": {
      "image/png": "[encoded data removed]",
      "text/plain": [
       "<Figure size 720x432 with 1 Axes>"
      ]
     },
     "metadata": {
      "needs_background": "light"
     },
     "output_type": "display_data"
    }
   ],
   "source": [
    "plt.figure(figsize=(10,6))\n",
    "\n",
    "for i in yticks:\n",
    "    plt.barh(yticks[i], left=df.rel_start[i], width=df.Duration[i], \n",
    "             color=color_dict[df.Department[i]], alpha=0.4)\n",
    "    plt.barh(yticks[i], left=df.rel_start[i], width=df.comp[i],  \n",
    "             color=color_dict[df.Department[i]], alpha=1, label=df.Department[i])\n",
    "    plt.text(x=df.rel_start[i]+df.comp[i], y=yticks[i], s=str(df.Completion[i])+\"%\")\n",
    "\n",
    "plt.ylim(max(yticks)+1, min(yticks)-1)\n",
    "plt.yticks(yticks, df.Task)\n",
    "\n",
    "plt.xticks(xticks[::5], xlabels[::5])\n",
    "\n",
    "#fix legends\n",
    "handles, labels = plt.gca().get_legend_handles_labels()\n",
    "handle_list, label_list = [], []\n",
    "for handle, label in zip(handles, labels):\n",
    "    if label not in label_list:\n",
    "        handle_list.append(handle)\n",
    "        label_list.append(label)\n",
    "plt.legend(handle_list, label_list)\n",
    "plt.tight_layout()\n",
    "\n",
    "plt.show()"
   ]
  },
  {
   "cell_type": "code",
   "execution_count": 23,
   "metadata": {
    "ExecuteTime": {
     "end_time": "2021-06-21T21:28:32.604901Z",
     "start_time": "2021-06-21T21:28:32.568143Z"
    }
   },
   "outputs": [],
   "source": [
    "df=df.sort_values(by=['Department', 'Task'], ascending=True).reset_index()"
   ]
  },
  {
   "cell_type": "code",
   "execution_count": 24,
   "metadata": {
    "ExecuteTime": {
     "end_time": "2021-06-21T21:28:33.643747Z",
     "start_time": "2021-06-21T21:28:33.184686Z"
    },
    "scrolled": true
   },
   "outputs": [
    {
     "data": {
      "image/png": "[encoded data removed]",
      "text/plain": [
       "<Figure size 720x432 with 1 Axes>"
      ]
     },
     "metadata": {
      "needs_background": "light"
     },
     "output_type": "display_data"
    }
   ],
   "source": [
    "plt.figure(figsize=(10,6))\n",
    "\n",
    "for i in yticks:\n",
    "    plt.barh(yticks[i], left=df.rel_start[i], width=df.Duration[i], \n",
    "             color=color_dict[df.Department[i]], alpha=0.4)\n",
    "    plt.barh(yticks[i], left=df.rel_start[i], width=df.comp[i],  \n",
    "             color=color_dict[df.Department[i]], alpha=1, label=df.Department[i])\n",
    "    plt.text(x=df.rel_start[i]+df.comp[i], y=yticks[i], s=str(df.Completion[i])+\"%\")\n",
    "\n",
    "plt.ylim(max(yticks)+1, min(yticks)-1)\n",
    "plt.yticks(yticks, df.Task)\n",
    "\n",
    "plt.xticks(xticks[::5], xlabels[::5])\n",
    "\n",
    "#fix legends\n",
    "handles, labels = plt.gca().get_legend_handles_labels()\n",
    "handle_list, label_list = [], []\n",
    "for handle, label in zip(handles, labels):\n",
    "    if label not in label_list:\n",
    "        handle_list.append(handle)\n",
    "        label_list.append(label)\n",
    "plt.legend(handle_list, label_list)\n",
    "plt.tight_layout()\n",
    "\n",
    "plt.show()"
   ]
  },
  {
   "cell_type": "code",
   "execution_count": 25,
   "metadata": {
    "ExecuteTime": {
     "end_time": "2021-06-21T21:31:09.290542Z",
     "start_time": "2021-06-21T21:31:09.277099Z"
    }
   },
   "outputs": [],
   "source": [
    "df=df.sort_values(by=['start', 'Department'], ascending=True).reset_index()"
   ]
  },
  {
   "cell_type": "code",
   "execution_count": 26,
   "metadata": {
    "ExecuteTime": {
     "end_time": "2021-06-21T21:31:17.643265Z",
     "start_time": "2021-06-21T21:31:17.173632Z"
    }
   },
   "outputs": [
    {
     "data": {
      "image/png": "[encoded data removed]",
      "text/plain": [
       "<Figure size 720x432 with 1 Axes>"
      ]
     },
     "metadata": {
      "needs_background": "light"
     },
     "output_type": "display_data"
    }
   ],
   "source": [
    "plt.figure(figsize=(10,6))\n",
    "\n",
    "for i in yticks:\n",
    "    plt.barh(yticks[i], left=df.rel_start[i], width=df.Duration[i], \n",
    "             color=color_dict[df.Department[i]], alpha=0.4)\n",
    "    plt.barh(yticks[i], left=df.rel_start[i], width=df.comp[i],  \n",
    "             color=color_dict[df.Department[i]], alpha=1, label=df.Department[i])\n",
    "    plt.text(x=df.rel_start[i]+df.comp[i], y=yticks[i], s=str(df.Completion[i])+\"%\")\n",
    "\n",
    "plt.ylim(max(yticks)+1, min(yticks)-1)\n",
    "plt.yticks(yticks, df.Task)\n",
    "\n",
    "plt.xticks(xticks[::5], xlabels[::5])\n",
    "\n",
    "#fix legends\n",
    "handles, labels = plt.gca().get_legend_handles_labels()\n",
    "handle_list, label_list = [], []\n",
    "for handle, label in zip(handles, labels):\n",
    "    if label not in label_list:\n",
    "        handle_list.append(handle)\n",
    "        label_list.append(label)\n",
    "plt.legend(handle_list, label_list)\n",
    "plt.tight_layout()\n",
    "\n",
    "plt.show()"
   ]
  },
  {
   "cell_type": "code",
   "execution_count": 27,
   "metadata": {
    "ExecuteTime": {
     "end_time": "2021-06-21T21:32:14.000408Z",
     "start_time": "2021-06-21T21:32:13.972156Z"
    },
    "scrolled": true
   },
   "outputs": [
    {
     "data": {
      "text/plain": [
       "Mkt    6\n",
       "Fin    3\n",
       "HR     2\n",
       "RnD    1\n",
       "Name: Department, dtype: int64"
      ]
     },
     "execution_count": 27,
     "metadata": {},
     "output_type": "execute_result"
    }
   ],
   "source": [
    "df.Department.value_counts()"
   ]
  },
  {
   "cell_type": "code",
   "execution_count": null,
   "metadata": {},
   "outputs": [],
   "source": []
  }
 ],
 "metadata": {
  "kernelspec": {
   "display_name": "Python 3",
   "language": "python",
   "name": "python3"
  },
  "language_info": {
   "codemirror_mode": {
    "name": "ipython",
    "version": 3
   },
   "file_extension": ".py",
   "mimetype": "text/x-python",
   "name": "python",
   "nbconvert_exporter": "python",
   "pygments_lexer": "ipython3",
   "version": "3.7.4"
  }
 },
 "nbformat": 4,
 "nbformat_minor": 2
}
