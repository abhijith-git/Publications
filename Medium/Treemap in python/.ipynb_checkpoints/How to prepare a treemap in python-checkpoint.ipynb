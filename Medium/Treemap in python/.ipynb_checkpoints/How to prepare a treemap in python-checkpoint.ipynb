{
 "cells": [
  {
   "cell_type": "markdown",
   "metadata": {},
   "source": [
    "This is a notebook on How to Generate a Treemap in Python\n",
    "\n",
    "You can refer the following resources for more information:\n",
    "* [Medium Article](https://medium.com/geekculture/how-to-plot-a-treemap-in-python-48743061cfda)\n",
    "* [YouTube Video](https://www.youtube.com/watch?v=TULiwqKfngE)"
   ]
  },
  {
   "cell_type": "markdown",
   "metadata": {},
   "source": [
    "### Import Libraries"
   ]
  },
  {
   "cell_type": "code",
   "execution_count": 1,
   "metadata": {
    "ExecuteTime": {
     "end_time": "2021-05-08T20:05:16.259648Z",
     "start_time": "2021-05-08T20:05:16.244018Z"
    }
   },
   "outputs": [],
   "source": [
    "#If squarify is not installed, install squarify\n",
    "# pip install squarify"
   ]
  },
  {
   "cell_type": "code",
   "execution_count": 2,
   "metadata": {
    "ExecuteTime": {
     "end_time": "2021-05-08T20:05:18.836309Z",
     "start_time": "2021-05-08T20:05:16.260163Z"
    }
   },
   "outputs": [],
   "source": [
    "import pandas as pd             # Read data from excel\n",
    "import matplotlib               # data viz\n",
    "import matplotlib.pyplot as plt # data viz\n",
    "import squarify                 # generate treemap"
   ]
  },
  {
   "cell_type": "markdown",
   "metadata": {
    "ExecuteTime": {
     "end_time": "2021-05-08T17:44:24.843993Z",
     "start_time": "2021-05-08T17:44:24.821850Z"
    }
   },
   "source": [
    "### Basic treemap"
   ]
  },
  {
   "cell_type": "code",
   "execution_count": 3,
   "metadata": {
    "ExecuteTime": {
     "end_time": "2021-05-08T20:05:19.253133Z",
     "start_time": "2021-05-08T20:05:18.836309Z"
    }
   },
   "outputs": [
    {
     "data": {
      "image/png": "[encoded data removed]",
      "text/plain": [
       "<Figure size 432x288 with 1 Axes>"
      ]
     },
     "metadata": {
      "needs_background": "light"
     },
     "output_type": "display_data"
    }
   ],
   "source": [
    "sizes=[100,50,23,74]\n",
    "squarify.plot(sizes)\n",
    "plt.show()"
   ]
  },
  {
   "cell_type": "markdown",
   "metadata": {
    "ExecuteTime": {
     "end_time": "2021-05-08T17:45:38.384193Z",
     "start_time": "2021-05-08T17:45:38.368728Z"
    }
   },
   "source": [
    "### Remove axis and add padding"
   ]
  },
  {
   "cell_type": "code",
   "execution_count": 4,
   "metadata": {
    "ExecuteTime": {
     "end_time": "2021-05-08T20:05:19.415617Z",
     "start_time": "2021-05-08T20:05:19.253133Z"
    }
   },
   "outputs": [
    {
     "data": {
      "image/png": "[encoded data removed]",
      "text/plain": [
       "<Figure size 432x288 with 1 Axes>"
      ]
     },
     "metadata": {
      "needs_background": "light"
     },
     "output_type": "display_data"
    }
   ],
   "source": [
    "sizes=[100,50,23,74]\n",
    "squarify.plot(sizes, pad=True)\n",
    "plt.axis('off')\n",
    "plt.show()"
   ]
  },
  {
   "cell_type": "markdown",
   "metadata": {},
   "source": [
    "### Add labels"
   ]
  },
  {
   "cell_type": "code",
   "execution_count": 5,
   "metadata": {
    "ExecuteTime": {
     "end_time": "2021-05-08T20:05:19.584828Z",
     "start_time": "2021-05-08T20:05:19.415617Z"
    }
   },
   "outputs": [
    {
     "data": {
      "image/png": "[encoded data removed]",
      "text/plain": [
       "<Figure size 432x288 with 1 Axes>"
      ]
     },
     "metadata": {
      "needs_background": "light"
     },
     "output_type": "display_data"
    }
   ],
   "source": [
    "sizes=[100,50,23,74]\n",
    "label=['A','B','C','D']\n",
    "colors=['red','green','blue', 'yellow']\n",
    "\n",
    "squarify.plot(sizes, label=label, color=colors, alpha=0.5)\n",
    "\n",
    "plt.axis('off')\n",
    "plt.show()"
   ]
  },
  {
   "cell_type": "markdown",
   "metadata": {},
   "source": [
    "### Using data from csv file"
   ]
  },
  {
   "cell_type": "code",
   "execution_count": 6,
   "metadata": {
    "ExecuteTime": {
     "end_time": "2021-05-08T20:05:19.638250Z",
     "start_time": "2021-05-08T20:05:19.584828Z"
    }
   },
   "outputs": [
    {
     "data": {
      "text/plain": [
       "(20, 11)"
      ]
     },
     "execution_count": 6,
     "metadata": {},
     "output_type": "execute_result"
    }
   ],
   "source": [
    "df=pd.read_csv('market_cap_top20.csv')\n",
    "df.shape"
   ]
  },
  {
   "cell_type": "code",
   "execution_count": 7,
   "metadata": {
    "ExecuteTime": {
     "end_time": "2021-05-08T20:05:19.700767Z",
     "start_time": "2021-05-08T20:05:19.638250Z"
    },
    "scrolled": true
   },
   "outputs": [
    {
     "data": {
      "text/html": [
       "<div>\n",
       "<style scoped>\n",
       "    .dataframe tbody tr th:only-of-type {\n",
       "        vertical-align: middle;\n",
       "    }\n",
       "\n",
       "    .dataframe tbody tr th {\n",
       "        vertical-align: top;\n",
       "    }\n",
       "\n",
       "    .dataframe thead th {\n",
       "        text-align: right;\n",
       "    }\n",
       "</style>\n",
       "<table border=\"1\" class=\"dataframe\">\n",
       "  <thead>\n",
       "    <tr style=\"text-align: right;\">\n",
       "      <th></th>\n",
       "      <th>No.</th>\n",
       "      <th>Ticker</th>\n",
       "      <th>Company</th>\n",
       "      <th>Sector</th>\n",
       "      <th>Industry</th>\n",
       "      <th>Country</th>\n",
       "      <th>Market Cap</th>\n",
       "      <th>P/E</th>\n",
       "      <th>Price</th>\n",
       "      <th>Change</th>\n",
       "      <th>Volume</th>\n",
       "    </tr>\n",
       "  </thead>\n",
       "  <tbody>\n",
       "    <tr>\n",
       "      <th>0</th>\n",
       "      <td>1</td>\n",
       "      <td>AAPL</td>\n",
       "      <td>Apple Inc.</td>\n",
       "      <td>Technology</td>\n",
       "      <td>Consumer Electronics</td>\n",
       "      <td>USA</td>\n",
       "      <td>2165.05B</td>\n",
       "      <td>29.22</td>\n",
       "      <td>130.21</td>\n",
       "      <td>0.36%</td>\n",
       "      <td>7,83,39,673</td>\n",
       "    </tr>\n",
       "    <tr>\n",
       "      <th>1</th>\n",
       "      <td>2</td>\n",
       "      <td>MSFT</td>\n",
       "      <td>Microsoft Corporation</td>\n",
       "      <td>Technology</td>\n",
       "      <td>Software - Infrastructure</td>\n",
       "      <td>USA</td>\n",
       "      <td>1880.86B</td>\n",
       "      <td>34.36</td>\n",
       "      <td>252.46</td>\n",
       "      <td>1.09%</td>\n",
       "      <td>2,69,92,758</td>\n",
       "    </tr>\n",
       "    <tr>\n",
       "      <th>2</th>\n",
       "      <td>3</td>\n",
       "      <td>AMZN</td>\n",
       "      <td>Amazon.com, Inc.</td>\n",
       "      <td>Consumer Cyclical</td>\n",
       "      <td>Internet Retail</td>\n",
       "      <td>USA</td>\n",
       "      <td>1667.50B</td>\n",
       "      <td>62.64</td>\n",
       "      <td>3291.61</td>\n",
       "      <td>-0.45%</td>\n",
       "      <td>47,02,758</td>\n",
       "    </tr>\n",
       "    <tr>\n",
       "      <th>3</th>\n",
       "      <td>4</td>\n",
       "      <td>GOOG</td>\n",
       "      <td>Alphabet Inc.</td>\n",
       "      <td>Communication Services</td>\n",
       "      <td>Internet Content &amp; Information</td>\n",
       "      <td>USA</td>\n",
       "      <td>1646.62B</td>\n",
       "      <td>31.97</td>\n",
       "      <td>2398.69</td>\n",
       "      <td>0.73%</td>\n",
       "      <td>11,61,766</td>\n",
       "    </tr>\n",
       "    <tr>\n",
       "      <th>4</th>\n",
       "      <td>5</td>\n",
       "      <td>GOOGL</td>\n",
       "      <td>Alphabet Inc.</td>\n",
       "      <td>Communication Services</td>\n",
       "      <td>Internet Content &amp; Information</td>\n",
       "      <td>USA</td>\n",
       "      <td>1580.64B</td>\n",
       "      <td>30.38</td>\n",
       "      <td>2351.93</td>\n",
       "      <td>0.62%</td>\n",
       "      <td>14,44,167</td>\n",
       "    </tr>\n",
       "  </tbody>\n",
       "</table>\n",
       "</div>"
      ],
      "text/plain": [
       "   No. Ticker                Company                  Sector  \\\n",
       "0    1   AAPL             Apple Inc.              Technology   \n",
       "1    2   MSFT  Microsoft Corporation              Technology   \n",
       "2    3   AMZN       Amazon.com, Inc.       Consumer Cyclical   \n",
       "3    4   GOOG          Alphabet Inc.  Communication Services   \n",
       "4    5  GOOGL          Alphabet Inc.  Communication Services   \n",
       "\n",
       "                         Industry Country Market Cap    P/E    Price  Change  \\\n",
       "0            Consumer Electronics     USA   2165.05B  29.22   130.21   0.36%   \n",
       "1       Software - Infrastructure     USA   1880.86B  34.36   252.46   1.09%   \n",
       "2                 Internet Retail     USA   1667.50B  62.64  3291.61  -0.45%   \n",
       "3  Internet Content & Information     USA   1646.62B  31.97  2398.69   0.73%   \n",
       "4  Internet Content & Information     USA   1580.64B  30.38  2351.93   0.62%   \n",
       "\n",
       "        Volume  \n",
       "0  7,83,39,673  \n",
       "1  2,69,92,758  \n",
       "2    47,02,758  \n",
       "3    11,61,766  \n",
       "4    14,44,167  "
      ]
     },
     "execution_count": 7,
     "metadata": {},
     "output_type": "execute_result"
    }
   ],
   "source": [
    "df.head()"
   ]
  },
  {
   "cell_type": "markdown",
   "metadata": {},
   "source": [
    "### Preprocess data"
   ]
  },
  {
   "cell_type": "code",
   "execution_count": 8,
   "metadata": {
    "ExecuteTime": {
     "end_time": "2021-05-08T20:05:19.738562Z",
     "start_time": "2021-05-08T20:05:19.700767Z"
    }
   },
   "outputs": [],
   "source": [
    "df['Market Cap']=df['Market Cap'].apply(lambda x: float(str(x).replace('B','')))\n",
    "df.Change=df.Change.apply(lambda x:float(str(x).replace('%','')))\n",
    "df.Volume=df.Volume.apply(lambda x:int(str(x).replace(',','')))"
   ]
  },
  {
   "cell_type": "markdown",
   "metadata": {},
   "source": [
    "### Plot Treemap"
   ]
  },
  {
   "cell_type": "code",
   "execution_count": 9,
   "metadata": {
    "ExecuteTime": {
     "end_time": "2021-05-08T20:05:20.217604Z",
     "start_time": "2021-05-08T20:05:19.738562Z"
    }
   },
   "outputs": [
    {
     "data": {
      "image/png": "[encoded data removed]",
      "text/plain": [
       "<Figure size 576x432 with 1 Axes>"
      ]
     },
     "metadata": {
      "needs_background": "light"
     },
     "output_type": "display_data"
    }
   ],
   "source": [
    "plt.figure(figsize=(8,6))\n",
    "squarify.plot(df['Market Cap'], label=df.Ticker,alpha=0.5)\n",
    "plt.axis('off')\n",
    "plt.show()"
   ]
  },
  {
   "cell_type": "markdown",
   "metadata": {
    "ExecuteTime": {
     "end_time": "2021-05-08T19:14:32.996335Z",
     "start_time": "2021-05-08T19:14:32.958772Z"
    }
   },
   "source": [
    "## Color map based on Volume Traded"
   ]
  },
  {
   "cell_type": "markdown",
   "metadata": {},
   "source": [
    "### Making color map"
   ]
  },
  {
   "cell_type": "code",
   "execution_count": 10,
   "metadata": {
    "ExecuteTime": {
     "end_time": "2021-05-08T20:05:20.272314Z",
     "start_time": "2021-05-08T20:05:20.217604Z"
    }
   },
   "outputs": [],
   "source": [
    "cmap=matplotlib.cm.Reds\n",
    "norm=matplotlib.colors.Normalize(vmin=df.Volume.min(), \n",
    "                                 vmax=df.Volume.max())\n",
    "colors=[cmap(norm(i)) for i in df.Volume]"
   ]
  },
  {
   "cell_type": "markdown",
   "metadata": {
    "ExecuteTime": {
     "end_time": "2021-05-08T19:21:42.707000Z",
     "start_time": "2021-05-08T19:21:42.691393Z"
    }
   },
   "source": [
    "### Plot Treemap"
   ]
  },
  {
   "cell_type": "code",
   "execution_count": 11,
   "metadata": {
    "ExecuteTime": {
     "end_time": "2021-05-08T20:05:20.841074Z",
     "start_time": "2021-05-08T20:05:20.272314Z"
    },
    "scrolled": true
   },
   "outputs": [
    {
     "data": {
      "image/png": "[encoded data removed]",
      "text/plain": [
       "<Figure size 576x432 with 1 Axes>"
      ]
     },
     "metadata": {
      "needs_background": "light"
     },
     "output_type": "display_data"
    }
   ],
   "source": [
    "plt.figure(figsize=(8,6))\n",
    "title=\"Tree map Size: Market cap Color: Volume\"\n",
    "plt.title(title, size=18)\n",
    "\n",
    "squarify.plot(df['Market Cap'], label=df.Ticker,\n",
    "              text_kwargs={'color':'blue', 'size':12},\n",
    "              color=colors)\n",
    "\n",
    "plt.axis('off')\n",
    "plt.show()"
   ]
  },
  {
   "cell_type": "markdown",
   "metadata": {
    "ExecuteTime": {
     "end_time": "2021-05-08T19:14:32.996335Z",
     "start_time": "2021-05-08T19:14:32.958772Z"
    }
   },
   "source": [
    "## Color map based on Percentage change"
   ]
  },
  {
   "cell_type": "markdown",
   "metadata": {},
   "source": [
    "### Making color map"
   ]
  },
  {
   "cell_type": "code",
   "execution_count": 12,
   "metadata": {
    "ExecuteTime": {
     "end_time": "2021-05-08T20:05:20.890370Z",
     "start_time": "2021-05-08T20:05:20.841074Z"
    }
   },
   "outputs": [],
   "source": [
    "cmap=matplotlib.cm.RdYlGn\n",
    "norm=matplotlib.colors.Normalize(vmin=df.Change.min(), vmax=df.Change.max())\n",
    "colors=[cmap(norm(i)) for i in df.Change]"
   ]
  },
  {
   "cell_type": "markdown",
   "metadata": {},
   "source": [
    "### Plot Treemap"
   ]
  },
  {
   "cell_type": "code",
   "execution_count": 13,
   "metadata": {
    "ExecuteTime": {
     "end_time": "2021-05-08T20:05:21.539601Z",
     "start_time": "2021-05-08T20:05:20.890370Z"
    }
   },
   "outputs": [
    {
     "data": {
      "image/png": "[encoded data removed]",
      "text/plain": [
       "<Figure size 1008x576 with 1 Axes>"
      ]
     },
     "metadata": {
      "needs_background": "light"
     },
     "output_type": "display_data"
    }
   ],
   "source": [
    "plt.figure(figsize=(14,8))\n",
    "title='NASDAQ Top 20, Size: Market Cap, Color: Change(%)'\n",
    "plt.title(title, size=20)\n",
    "\n",
    "squarify.plot(df['Market Cap'], label=df.Ticker,alpha=0.8, color=colors, pad=True, \n",
    "              text_kwargs={'color':'black', 'size':12})\n",
    "\n",
    "plt.axis('off')\n",
    "plt.show()"
   ]
  },
  {
   "cell_type": "code",
   "execution_count": null,
   "metadata": {},
   "outputs": [],
   "source": []
  }
 ],
 "metadata": {
  "kernelspec": {
   "display_name": "Python 3",
   "language": "python",
   "name": "python3"
  },
  "language_info": {
   "codemirror_mode": {
    "name": "ipython",
    "version": 3
   },
   "file_extension": ".py",
   "mimetype": "text/x-python",
   "name": "python",
   "nbconvert_exporter": "python",
   "pygments_lexer": "ipython3",
   "version": "3.7.4"
  }
 },
 "nbformat": 4,
 "nbformat_minor": 2
}
