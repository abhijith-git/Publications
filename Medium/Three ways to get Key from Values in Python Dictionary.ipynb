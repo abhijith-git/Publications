{
 "cells": [
  {
   "cell_type": "markdown",
   "metadata": {},
   "source": [
    "### Import Libraries"
   ]
  },
  {
   "cell_type": "code",
   "execution_count": 2,
   "metadata": {
    "ExecuteTime": {
     "end_time": "2020-11-07T07:46:20.239671Z",
     "start_time": "2020-11-07T07:46:19.475616Z"
    }
   },
   "outputs": [],
   "source": [
    "import pandas as pd"
   ]
  },
  {
   "cell_type": "markdown",
   "metadata": {},
   "source": [
    "### Initialize Dictionary"
   ]
  },
  {
   "cell_type": "code",
   "execution_count": 62,
   "metadata": {
    "ExecuteTime": {
     "end_time": "2020-11-07T11:16:17.661070Z",
     "start_time": "2020-11-07T11:16:17.641127Z"
    }
   },
   "outputs": [],
   "source": [
    "currency_dict={'USD':'Dollar',\n",
    "             'EUR':'Euro',\n",
    "             'GBP':'Pound',\n",
    "              'INR':'Rupee'}"
   ]
  },
  {
   "cell_type": "markdown",
   "metadata": {},
   "source": [
    "### Method 1: Using List"
   ]
  },
  {
   "cell_type": "code",
   "execution_count": 63,
   "metadata": {
    "ExecuteTime": {
     "end_time": "2020-11-07T11:16:27.687109Z",
     "start_time": "2020-11-07T11:16:27.654588Z"
    }
   },
   "outputs": [
    {
     "data": {
      "text/plain": [
       "'GBP'"
      ]
     },
     "execution_count": 63,
     "metadata": {},
     "output_type": "execute_result"
    }
   ],
   "source": [
    "key_list=list(currency_dict.keys())\n",
    "val_list=list(currency_dict.values())\n",
    "ind=val_list.index(val)\n",
    "key_list[ind]"
   ]
  },
  {
   "cell_type": "code",
   "execution_count": 64,
   "metadata": {
    "ExecuteTime": {
     "end_time": "2020-11-07T11:16:35.034679Z",
     "start_time": "2020-11-07T11:16:34.997099Z"
    }
   },
   "outputs": [
    {
     "data": {
      "text/plain": [
       "'GBP'"
      ]
     },
     "execution_count": 64,
     "metadata": {},
     "output_type": "execute_result"
    }
   ],
   "source": [
    "list(currency_dict.keys())[list(currency_dict.values()).index(val)]"
   ]
  },
  {
   "cell_type": "markdown",
   "metadata": {},
   "source": [
    "### Method 2: Using For Loop"
   ]
  },
  {
   "cell_type": "code",
   "execution_count": 65,
   "metadata": {
    "ExecuteTime": {
     "end_time": "2020-11-07T11:16:40.028914Z",
     "start_time": "2020-11-07T11:16:39.988987Z"
    }
   },
   "outputs": [
    {
     "data": {
      "text/plain": [
       "'INR'"
      ]
     },
     "execution_count": 65,
     "metadata": {},
     "output_type": "execute_result"
    }
   ],
   "source": [
    "def return_key(val):\n",
    "    for i in range(len(currency_dict)):\n",
    "        if val_list[i]==val:\n",
    "            return key_list[i]\n",
    "    return(\"Key Not Found\")\n",
    "\n",
    "return_key(\"Rupee\")"
   ]
  },
  {
   "cell_type": "code",
   "execution_count": 66,
   "metadata": {
    "ExecuteTime": {
     "end_time": "2020-11-07T11:16:45.107092Z",
     "start_time": "2020-11-07T11:16:45.075095Z"
    }
   },
   "outputs": [
    {
     "data": {
      "text/plain": [
       "'USD'"
      ]
     },
     "execution_count": 66,
     "metadata": {},
     "output_type": "execute_result"
    }
   ],
   "source": [
    "def return_key(val):\n",
    "    for key, value in currency_dict.items():\n",
    "        if value==val:\n",
    "            return key\n",
    "    return('Key Not Found')\n",
    "\n",
    "return_key('Dollar')"
   ]
  },
  {
   "cell_type": "markdown",
   "metadata": {
    "ExecuteTime": {
     "end_time": "2020-11-07T07:52:25.950589Z",
     "start_time": "2020-11-07T07:52:25.934950Z"
    }
   },
   "source": [
    "### Method 3: Using DataFrame"
   ]
  },
  {
   "cell_type": "code",
   "execution_count": 68,
   "metadata": {
    "ExecuteTime": {
     "end_time": "2020-11-07T11:59:51.560703Z",
     "start_time": "2020-11-07T11:59:51.502911Z"
    }
   },
   "outputs": [
    {
     "name": "stdout",
     "output_type": "stream",
     "text": [
      "2    GBP\n",
      "Name: abbr, dtype: object\n",
      "<class 'pandas.core.series.Series'>\n"
     ]
    }
   ],
   "source": [
    "df=pd.DataFrame({'abbr':list(currency_dict.keys()),\n",
    "                 'curr':list(currency_dict.values())})\n",
    "\n",
    "print(df.abbr[df.curr==val])\n",
    "print(type(df.abbr[df.curr==val]))"
   ]
  },
  {
   "cell_type": "code",
   "execution_count": 43,
   "metadata": {
    "ExecuteTime": {
     "end_time": "2020-11-07T08:15:17.914688Z",
     "start_time": "2020-11-07T08:15:17.860833Z"
    }
   },
   "outputs": [
    {
     "data": {
      "text/plain": [
       "'GBP'"
      ]
     },
     "execution_count": 43,
     "metadata": {},
     "output_type": "execute_result"
    }
   ],
   "source": [
    "df.abbr[df.curr==val].unique()[0]\n",
    "df.abbr[df.curr==val].mode()[0]\n",
    "df.abbr[df.curr==val].sum()"
   ]
  }
 ],
 "metadata": {
  "kernelspec": {
   "display_name": "Python 3",
   "language": "python",
   "name": "python3"
  },
  "language_info": {
   "codemirror_mode": {
    "name": "ipython",
    "version": 3
   },
   "file_extension": ".py",
   "mimetype": "text/x-python",
   "name": "python",
   "nbconvert_exporter": "python",
   "pygments_lexer": "ipython3",
   "version": "3.7.4"
  }
 },
 "nbformat": 4,
 "nbformat_minor": 2
}
