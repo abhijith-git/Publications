{
 "cells": [
  {
   "cell_type": "markdown",
   "metadata": {},
   "source": [
    "### Import Libraries"
   ]
  },
  {
   "cell_type": "code",
   "execution_count": 1,
   "metadata": {
    "ExecuteTime": {
     "end_time": "2021-05-14T23:36:01.744970Z",
     "start_time": "2021-05-14T23:35:58.372847Z"
    }
   },
   "outputs": [
    {
     "name": "stderr",
     "output_type": "stream",
     "text": [
      "C:\\Users\\ABCD\\AppData\\Local\\Continuum\\anaconda3\\lib\\importlib\\_bootstrap.py:219: RuntimeWarning: numpy.ufunc size changed, may indicate binary incompatibility. Expected 192 from C header, got 216 from PyObject\n",
      "  return f(*args, **kwds)\n",
      "C:\\Users\\ABCD\\AppData\\Local\\Continuum\\anaconda3\\lib\\importlib\\_bootstrap.py:219: RuntimeWarning: numpy.ufunc size changed, may indicate binary incompatibility. Expected 192 from C header, got 216 from PyObject\n",
      "  return f(*args, **kwds)\n",
      "C:\\Users\\ABCD\\AppData\\Local\\Continuum\\anaconda3\\lib\\importlib\\_bootstrap.py:219: RuntimeWarning: numpy.ufunc size changed, may indicate binary incompatibility. Expected 192 from C header, got 216 from PyObject\n",
      "  return f(*args, **kwds)\n",
      "C:\\Users\\ABCD\\AppData\\Local\\Continuum\\anaconda3\\lib\\site-packages\\statsmodels\\tools\\_testing.py:19: FutureWarning: pandas.util.testing is deprecated. Use the functions in the public API at pandas.testing instead.\n",
      "  import pandas.util.testing as tm\n",
      "C:\\Users\\ABCD\\AppData\\Local\\Continuum\\anaconda3\\lib\\importlib\\_bootstrap.py:219: RuntimeWarning: numpy.ufunc size changed, may indicate binary incompatibility. Expected 192 from C header, got 216 from PyObject\n",
      "  return f(*args, **kwds)\n"
     ]
    }
   ],
   "source": [
    "import pandas as pd\n",
    "import numpy as np\n",
    "import matplotlib.pyplot as plt\n",
    "import seaborn as sns"
   ]
  },
  {
   "cell_type": "markdown",
   "metadata": {},
   "source": [
    "### Read data"
   ]
  },
  {
   "cell_type": "code",
   "execution_count": 24,
   "metadata": {
    "ExecuteTime": {
     "end_time": "2021-05-15T00:01:40.108403Z",
     "start_time": "2021-05-15T00:01:39.999394Z"
    }
   },
   "outputs": [
    {
     "data": {
      "text/html": [
       "<div>\n",
       "<style scoped>\n",
       "    .dataframe tbody tr th:only-of-type {\n",
       "        vertical-align: middle;\n",
       "    }\n",
       "\n",
       "    .dataframe tbody tr th {\n",
       "        vertical-align: top;\n",
       "    }\n",
       "\n",
       "    .dataframe thead th {\n",
       "        text-align: right;\n",
       "    }\n",
       "</style>\n",
       "<table border=\"1\" class=\"dataframe\">\n",
       "  <thead>\n",
       "    <tr style=\"text-align: right;\">\n",
       "      <th></th>\n",
       "      <th>id</th>\n",
       "      <th>minute</th>\n",
       "      <th>result</th>\n",
       "      <th>X</th>\n",
       "      <th>Y</th>\n",
       "      <th>xG</th>\n",
       "      <th>player</th>\n",
       "      <th>h_a</th>\n",
       "      <th>player_id</th>\n",
       "      <th>situation</th>\n",
       "      <th>season</th>\n",
       "      <th>shotType</th>\n",
       "      <th>match_id</th>\n",
       "      <th>h_team</th>\n",
       "      <th>a_team</th>\n",
       "      <th>h_goals</th>\n",
       "      <th>a_goals</th>\n",
       "      <th>date</th>\n",
       "      <th>player_assisted</th>\n",
       "      <th>lastAction</th>\n",
       "    </tr>\n",
       "  </thead>\n",
       "  <tbody>\n",
       "    <tr>\n",
       "      <th>0</th>\n",
       "      <td>421642</td>\n",
       "      <td>4</td>\n",
       "      <td>MissedShots</td>\n",
       "      <td>13089.600220</td>\n",
       "      <td>2348.800049</td>\n",
       "      <td>0.019184</td>\n",
       "      <td>Edinson Cavani</td>\n",
       "      <td>h</td>\n",
       "      <td>3294</td>\n",
       "      <td>OpenPlay</td>\n",
       "      <td>2020</td>\n",
       "      <td>Head</td>\n",
       "      <td>14770</td>\n",
       "      <td>Manchester United</td>\n",
       "      <td>Liverpool</td>\n",
       "      <td>2</td>\n",
       "      <td>4</td>\n",
       "      <td>2021-05-13 19:15:00</td>\n",
       "      <td>Aaron Wan-Bissaka</td>\n",
       "      <td>Aerial</td>\n",
       "    </tr>\n",
       "    <tr>\n",
       "      <th>1</th>\n",
       "      <td>421643</td>\n",
       "      <td>4</td>\n",
       "      <td>MissedShots</td>\n",
       "      <td>11937.600220</td>\n",
       "      <td>2956.800049</td>\n",
       "      <td>0.313387</td>\n",
       "      <td>Edinson Cavani</td>\n",
       "      <td>h</td>\n",
       "      <td>3294</td>\n",
       "      <td>OpenPlay</td>\n",
       "      <td>2020</td>\n",
       "      <td>RightFoot</td>\n",
       "      <td>14770</td>\n",
       "      <td>Manchester United</td>\n",
       "      <td>Liverpool</td>\n",
       "      <td>2</td>\n",
       "      <td>4</td>\n",
       "      <td>2021-05-13 19:15:00</td>\n",
       "      <td>NaN</td>\n",
       "      <td>BallRecovery</td>\n",
       "    </tr>\n",
       "    <tr>\n",
       "      <th>2</th>\n",
       "      <td>421644</td>\n",
       "      <td>9</td>\n",
       "      <td>Goal</td>\n",
       "      <td>12340.799561</td>\n",
       "      <td>2041.599976</td>\n",
       "      <td>0.038070</td>\n",
       "      <td>Bruno Fernandes</td>\n",
       "      <td>h</td>\n",
       "      <td>1228</td>\n",
       "      <td>OpenPlay</td>\n",
       "      <td>2020</td>\n",
       "      <td>RightFoot</td>\n",
       "      <td>14770</td>\n",
       "      <td>Manchester United</td>\n",
       "      <td>Liverpool</td>\n",
       "      <td>2</td>\n",
       "      <td>4</td>\n",
       "      <td>2021-05-13 19:15:00</td>\n",
       "      <td>Aaron Wan-Bissaka</td>\n",
       "      <td>Pass</td>\n",
       "    </tr>\n",
       "    <tr>\n",
       "      <th>3</th>\n",
       "      <td>421648</td>\n",
       "      <td>30</td>\n",
       "      <td>BlockedShot</td>\n",
       "      <td>12844.799561</td>\n",
       "      <td>3180.800049</td>\n",
       "      <td>0.028307</td>\n",
       "      <td>Scott McTominay</td>\n",
       "      <td>h</td>\n",
       "      <td>5560</td>\n",
       "      <td>FromCorner</td>\n",
       "      <td>2020</td>\n",
       "      <td>Head</td>\n",
       "      <td>14770</td>\n",
       "      <td>Manchester United</td>\n",
       "      <td>Liverpool</td>\n",
       "      <td>2</td>\n",
       "      <td>4</td>\n",
       "      <td>2021-05-13 19:15:00</td>\n",
       "      <td>Luke Shaw</td>\n",
       "      <td>End</td>\n",
       "    </tr>\n",
       "    <tr>\n",
       "      <th>4</th>\n",
       "      <td>421655</td>\n",
       "      <td>40</td>\n",
       "      <td>MissedShots</td>\n",
       "      <td>12513.600220</td>\n",
       "      <td>4691.200195</td>\n",
       "      <td>0.032955</td>\n",
       "      <td>Paul Pogba</td>\n",
       "      <td>h</td>\n",
       "      <td>1740</td>\n",
       "      <td>OpenPlay</td>\n",
       "      <td>2020</td>\n",
       "      <td>LeftFoot</td>\n",
       "      <td>14770</td>\n",
       "      <td>Manchester United</td>\n",
       "      <td>Liverpool</td>\n",
       "      <td>2</td>\n",
       "      <td>4</td>\n",
       "      <td>2021-05-13 19:15:00</td>\n",
       "      <td>Fred</td>\n",
       "      <td>Pass</td>\n",
       "    </tr>\n",
       "  </tbody>\n",
       "</table>\n",
       "</div>"
      ],
      "text/plain": [
       "       id  minute       result             X            Y        xG  \\\n",
       "0  421642       4  MissedShots  13089.600220  2348.800049  0.019184   \n",
       "1  421643       4  MissedShots  11937.600220  2956.800049  0.313387   \n",
       "2  421644       9         Goal  12340.799561  2041.599976  0.038070   \n",
       "3  421648      30  BlockedShot  12844.799561  3180.800049  0.028307   \n",
       "4  421655      40  MissedShots  12513.600220  4691.200195  0.032955   \n",
       "\n",
       "            player h_a  player_id   situation  season   shotType  match_id  \\\n",
       "0   Edinson Cavani   h       3294    OpenPlay    2020       Head     14770   \n",
       "1   Edinson Cavani   h       3294    OpenPlay    2020  RightFoot     14770   \n",
       "2  Bruno Fernandes   h       1228    OpenPlay    2020  RightFoot     14770   \n",
       "3  Scott McTominay   h       5560  FromCorner    2020       Head     14770   \n",
       "4       Paul Pogba   h       1740    OpenPlay    2020   LeftFoot     14770   \n",
       "\n",
       "              h_team     a_team  h_goals  a_goals                 date  \\\n",
       "0  Manchester United  Liverpool        2        4  2021-05-13 19:15:00   \n",
       "1  Manchester United  Liverpool        2        4  2021-05-13 19:15:00   \n",
       "2  Manchester United  Liverpool        2        4  2021-05-13 19:15:00   \n",
       "3  Manchester United  Liverpool        2        4  2021-05-13 19:15:00   \n",
       "4  Manchester United  Liverpool        2        4  2021-05-13 19:15:00   \n",
       "\n",
       "     player_assisted    lastAction  \n",
       "0  Aaron Wan-Bissaka        Aerial  \n",
       "1                NaN  BallRecovery  \n",
       "2  Aaron Wan-Bissaka          Pass  \n",
       "3          Luke Shaw           End  \n",
       "4               Fred          Pass  "
      ]
     },
     "execution_count": 24,
     "metadata": {},
     "output_type": "execute_result"
    }
   ],
   "source": [
    "df=pd.read_csv('MUNLIV.csv')\n",
    "df.head()"
   ]
  },
  {
   "cell_type": "markdown",
   "metadata": {},
   "source": [
    "### Basic exploration"
   ]
  },
  {
   "cell_type": "code",
   "execution_count": 3,
   "metadata": {
    "ExecuteTime": {
     "end_time": "2021-05-14T23:38:31.646305Z",
     "start_time": "2021-05-14T23:38:31.628303Z"
    }
   },
   "outputs": [
    {
     "data": {
      "text/plain": [
       "35"
      ]
     },
     "execution_count": 3,
     "metadata": {},
     "output_type": "execute_result"
    }
   ],
   "source": [
    "df.shape[0]"
   ]
  },
  {
   "cell_type": "code",
   "execution_count": 4,
   "metadata": {
    "ExecuteTime": {
     "end_time": "2021-05-14T23:38:59.366615Z",
     "start_time": "2021-05-14T23:38:59.309591Z"
    }
   },
   "outputs": [
    {
     "data": {
      "text/plain": [
       "h    18\n",
       "a    17\n",
       "Name: h_a, dtype: int64"
      ]
     },
     "execution_count": 4,
     "metadata": {},
     "output_type": "execute_result"
    }
   ],
   "source": [
    "df.h_a.value_counts()"
   ]
  },
  {
   "cell_type": "markdown",
   "metadata": {},
   "source": [
    "### Countplot"
   ]
  },
  {
   "cell_type": "code",
   "execution_count": 5,
   "metadata": {
    "ExecuteTime": {
     "end_time": "2021-05-14T23:40:22.414777Z",
     "start_time": "2021-05-14T23:40:21.859737Z"
    }
   },
   "outputs": [
    {
     "data": {
      "text/plain": [
       "<matplotlib.axes._subplots.AxesSubplot at 0x251472d1e08>"
      ]
     },
     "execution_count": 5,
     "metadata": {},
     "output_type": "execute_result"
    },
    {
     "data": {
      "image/png": "[encoded data removed]",
      "text/plain": [
       "<Figure size 432x288 with 1 Axes>"
      ]
     },
     "metadata": {
      "needs_background": "light"
     },
     "output_type": "display_data"
    }
   ],
   "source": [
    "sns.countplot(x=df.result, hue=df.h_a)"
   ]
  },
  {
   "cell_type": "markdown",
   "metadata": {},
   "source": [
    "### Basic plot"
   ]
  },
  {
   "cell_type": "code",
   "execution_count": 8,
   "metadata": {
    "ExecuteTime": {
     "end_time": "2021-05-14T23:43:03.616387Z",
     "start_time": "2021-05-14T23:43:03.225352Z"
    }
   },
   "outputs": [
    {
     "data": {
      "image/png": "[encoded data removed]",
      "text/plain": [
       "<Figure size 720x432 with 1 Axes>"
      ]
     },
     "metadata": {},
     "output_type": "display_data"
    }
   ],
   "source": [
    "fig,ax=plt.subplots(figsize=(10,6))\n",
    "fig.set_facecolor('#22312b')\n",
    "ax.patch.set_facecolor('#22312b')\n",
    "\n",
    "plt.step(df[df.h_a=='h'].minute, df[df.h_a=='h'].xG)\n",
    "\n",
    "plt.axis(color='white')\n",
    "plt.xticks([15,30,45,60,75,90], color='white')\n",
    "plt.yticks(color='white')\n",
    "plt.show()"
   ]
  },
  {
   "cell_type": "markdown",
   "metadata": {},
   "source": [
    "#### List of minutes and xg"
   ]
  },
  {
   "cell_type": "code",
   "execution_count": 10,
   "metadata": {
    "ExecuteTime": {
     "end_time": "2021-05-14T23:46:52.895756Z",
     "start_time": "2021-05-14T23:46:52.875775Z"
    }
   },
   "outputs": [
    {
     "data": {
      "text/plain": [
       "[4, 4, 9, 30, 40, 45, 45, 67, 69, 69, 69, 70, 70, 71, 75, 76, 78, 94]"
      ]
     },
     "execution_count": 10,
     "metadata": {},
     "output_type": "execute_result"
    }
   ],
   "source": [
    "list(df[df.h_a=='h'].minute)"
   ]
  },
  {
   "cell_type": "code",
   "execution_count": 25,
   "metadata": {
    "ExecuteTime": {
     "end_time": "2021-05-15T00:01:50.274461Z",
     "start_time": "2021-05-15T00:01:50.222457Z"
    }
   },
   "outputs": [],
   "source": [
    "#initialize\n",
    "min_h=[0]\n",
    "xg_h=[0]\n",
    "result_h=['start']\n",
    "min_a=[0]\n",
    "xg_a=[0]\n",
    "result_a=['start']\n",
    "\n",
    "#extend\n",
    "min_h.extend(list(df[df.h_a=='h'].minute))\n",
    "xg_h.extend(list(df[df.h_a=='h'].xG))\n",
    "result_h.extend(list(df[df.h_a=='h'].result))\n",
    "\n",
    "min_a.extend(list(df[df.h_a=='a'].minute))\n",
    "xg_a.extend(list(df[df.h_a=='a'].xG))\n",
    "result_a.extend(list(df[df.h_a=='a'].result))\n",
    "\n",
    "#add last\n",
    "t_max=max(90, max(df.minute))\n",
    "min_h.append(t_max)\n",
    "xg_h.append(0)\n",
    "result_h.append('end')\n",
    "\n",
    "min_a.append(t_max)\n",
    "xg_a.append(0)\n",
    "result_a.append('end')"
   ]
  },
  {
   "cell_type": "code",
   "execution_count": 16,
   "metadata": {
    "ExecuteTime": {
     "end_time": "2021-05-14T23:54:54.216390Z",
     "start_time": "2021-05-14T23:54:54.188385Z"
    }
   },
   "outputs": [
    {
     "data": {
      "text/plain": [
       "[0,\n",
       " 0.06491980701684953,\n",
       " 0.3181627094745636,\n",
       " 0.045579109340906136,\n",
       " 0.058842696249485016,\n",
       " 0.039186488837003715,\n",
       " 0.07450979202985764,\n",
       " 0.5596401691436768,\n",
       " 0.06608153879642488,\n",
       " 0.013943244703114031,\n",
       " 0.07671831548213959,\n",
       " 0.4212280213832855,\n",
       " 0.29827436804771423,\n",
       " 0.3377325236797333,\n",
       " 0.11234279721975328,\n",
       " 0.037534546107053764,\n",
       " 0.04242770001292229,\n",
       " 0.4681112766265869,\n",
       " 0]"
      ]
     },
     "execution_count": 16,
     "metadata": {},
     "output_type": "execute_result"
    }
   ],
   "source": [
    "xg_a"
   ]
  },
  {
   "cell_type": "code",
   "execution_count": 26,
   "metadata": {
    "ExecuteTime": {
     "end_time": "2021-05-15T00:01:53.732719Z",
     "start_time": "2021-05-15T00:01:53.719719Z"
    }
   },
   "outputs": [],
   "source": [
    "#cumulative xg\n",
    "xg_h=np.cumsum(xg_h)\n",
    "xg_a=np.cumsum(xg_a)"
   ]
  },
  {
   "cell_type": "code",
   "execution_count": 18,
   "metadata": {
    "ExecuteTime": {
     "end_time": "2021-05-14T23:55:07.907844Z",
     "start_time": "2021-05-14T23:55:07.888819Z"
    }
   },
   "outputs": [
    {
     "data": {
      "text/plain": [
       "array([0.        , 0.06491981, 0.38308252, 0.42866163, 0.48750432,\n",
       "       0.52669081, 0.6012006 , 1.16084077, 1.22692231, 1.24086556,\n",
       "       1.31758387, 1.73881189, 2.03708626, 2.37481878, 2.48716158,\n",
       "       2.52469613, 2.56712383, 3.0352351 , 3.0352351 ])"
      ]
     },
     "execution_count": 18,
     "metadata": {},
     "output_type": "execute_result"
    }
   ],
   "source": [
    "xg_a"
   ]
  },
  {
   "cell_type": "code",
   "execution_count": 27,
   "metadata": {
    "ExecuteTime": {
     "end_time": "2021-05-15T00:01:58.446997Z",
     "start_time": "2021-05-15T00:01:58.430996Z"
    }
   },
   "outputs": [],
   "source": [
    "#make home and away dataframe\n",
    "df_h=pd.DataFrame({'minute':min_h, 'xg':xg_h, 'result':result_h})\n",
    "df_a=pd.DataFrame({'minute':min_a, 'xg':xg_a, 'result':result_a})"
   ]
  },
  {
   "cell_type": "code",
   "execution_count": 28,
   "metadata": {
    "ExecuteTime": {
     "end_time": "2021-05-15T00:02:00.147223Z",
     "start_time": "2021-05-15T00:02:00.102239Z"
    }
   },
   "outputs": [
    {
     "data": {
      "text/html": [
       "<div>\n",
       "<style scoped>\n",
       "    .dataframe tbody tr th:only-of-type {\n",
       "        vertical-align: middle;\n",
       "    }\n",
       "\n",
       "    .dataframe tbody tr th {\n",
       "        vertical-align: top;\n",
       "    }\n",
       "\n",
       "    .dataframe thead th {\n",
       "        text-align: right;\n",
       "    }\n",
       "</style>\n",
       "<table border=\"1\" class=\"dataframe\">\n",
       "  <thead>\n",
       "    <tr style=\"text-align: right;\">\n",
       "      <th></th>\n",
       "      <th>minute</th>\n",
       "      <th>xg</th>\n",
       "      <th>result</th>\n",
       "    </tr>\n",
       "  </thead>\n",
       "  <tbody>\n",
       "    <tr>\n",
       "      <th>0</th>\n",
       "      <td>0</td>\n",
       "      <td>0.000000</td>\n",
       "      <td>start</td>\n",
       "    </tr>\n",
       "    <tr>\n",
       "      <th>1</th>\n",
       "      <td>13</td>\n",
       "      <td>0.064920</td>\n",
       "      <td>BlockedShot</td>\n",
       "    </tr>\n",
       "    <tr>\n",
       "      <th>2</th>\n",
       "      <td>22</td>\n",
       "      <td>0.383083</td>\n",
       "      <td>SavedShot</td>\n",
       "    </tr>\n",
       "    <tr>\n",
       "      <th>3</th>\n",
       "      <td>25</td>\n",
       "      <td>0.428662</td>\n",
       "      <td>MissedShots</td>\n",
       "    </tr>\n",
       "    <tr>\n",
       "      <th>4</th>\n",
       "      <td>32</td>\n",
       "      <td>0.487504</td>\n",
       "      <td>SavedShot</td>\n",
       "    </tr>\n",
       "    <tr>\n",
       "      <th>5</th>\n",
       "      <td>33</td>\n",
       "      <td>0.526691</td>\n",
       "      <td>BlockedShot</td>\n",
       "    </tr>\n",
       "    <tr>\n",
       "      <th>6</th>\n",
       "      <td>33</td>\n",
       "      <td>0.601201</td>\n",
       "      <td>MissedShots</td>\n",
       "    </tr>\n",
       "    <tr>\n",
       "      <th>7</th>\n",
       "      <td>33</td>\n",
       "      <td>1.160841</td>\n",
       "      <td>Goal</td>\n",
       "    </tr>\n",
       "    <tr>\n",
       "      <th>8</th>\n",
       "      <td>34</td>\n",
       "      <td>1.226922</td>\n",
       "      <td>BlockedShot</td>\n",
       "    </tr>\n",
       "    <tr>\n",
       "      <th>9</th>\n",
       "      <td>35</td>\n",
       "      <td>1.240866</td>\n",
       "      <td>BlockedShot</td>\n",
       "    </tr>\n",
       "    <tr>\n",
       "      <th>10</th>\n",
       "      <td>46</td>\n",
       "      <td>1.317584</td>\n",
       "      <td>SavedShot</td>\n",
       "    </tr>\n",
       "    <tr>\n",
       "      <th>11</th>\n",
       "      <td>46</td>\n",
       "      <td>1.738812</td>\n",
       "      <td>Goal</td>\n",
       "    </tr>\n",
       "    <tr>\n",
       "      <th>12</th>\n",
       "      <td>47</td>\n",
       "      <td>2.037086</td>\n",
       "      <td>Goal</td>\n",
       "    </tr>\n",
       "    <tr>\n",
       "      <th>13</th>\n",
       "      <td>58</td>\n",
       "      <td>2.374819</td>\n",
       "      <td>ShotOnPost</td>\n",
       "    </tr>\n",
       "    <tr>\n",
       "      <th>14</th>\n",
       "      <td>61</td>\n",
       "      <td>2.487162</td>\n",
       "      <td>SavedShot</td>\n",
       "    </tr>\n",
       "    <tr>\n",
       "      <th>15</th>\n",
       "      <td>68</td>\n",
       "      <td>2.524696</td>\n",
       "      <td>MissedShots</td>\n",
       "    </tr>\n",
       "    <tr>\n",
       "      <th>16</th>\n",
       "      <td>72</td>\n",
       "      <td>2.567124</td>\n",
       "      <td>MissedShots</td>\n",
       "    </tr>\n",
       "    <tr>\n",
       "      <th>17</th>\n",
       "      <td>89</td>\n",
       "      <td>3.035235</td>\n",
       "      <td>Goal</td>\n",
       "    </tr>\n",
       "    <tr>\n",
       "      <th>18</th>\n",
       "      <td>94</td>\n",
       "      <td>3.035235</td>\n",
       "      <td>end</td>\n",
       "    </tr>\n",
       "  </tbody>\n",
       "</table>\n",
       "</div>"
      ],
      "text/plain": [
       "    minute        xg       result\n",
       "0        0  0.000000        start\n",
       "1       13  0.064920  BlockedShot\n",
       "2       22  0.383083    SavedShot\n",
       "3       25  0.428662  MissedShots\n",
       "4       32  0.487504    SavedShot\n",
       "5       33  0.526691  BlockedShot\n",
       "6       33  0.601201  MissedShots\n",
       "7       33  1.160841         Goal\n",
       "8       34  1.226922  BlockedShot\n",
       "9       35  1.240866  BlockedShot\n",
       "10      46  1.317584    SavedShot\n",
       "11      46  1.738812         Goal\n",
       "12      47  2.037086         Goal\n",
       "13      58  2.374819   ShotOnPost\n",
       "14      61  2.487162    SavedShot\n",
       "15      68  2.524696  MissedShots\n",
       "16      72  2.567124  MissedShots\n",
       "17      89  3.035235         Goal\n",
       "18      94  3.035235          end"
      ]
     },
     "execution_count": 28,
     "metadata": {},
     "output_type": "execute_result"
    }
   ],
   "source": [
    "df_a"
   ]
  },
  {
   "cell_type": "code",
   "execution_count": 29,
   "metadata": {
    "ExecuteTime": {
     "end_time": "2021-05-15T00:02:04.181221Z",
     "start_time": "2021-05-15T00:02:04.137220Z"
    }
   },
   "outputs": [
    {
     "data": {
      "text/html": [
       "<div>\n",
       "<style scoped>\n",
       "    .dataframe tbody tr th:only-of-type {\n",
       "        vertical-align: middle;\n",
       "    }\n",
       "\n",
       "    .dataframe tbody tr th {\n",
       "        vertical-align: top;\n",
       "    }\n",
       "\n",
       "    .dataframe thead th {\n",
       "        text-align: right;\n",
       "    }\n",
       "</style>\n",
       "<table border=\"1\" class=\"dataframe\">\n",
       "  <thead>\n",
       "    <tr style=\"text-align: right;\">\n",
       "      <th></th>\n",
       "      <th>minute</th>\n",
       "      <th>xg</th>\n",
       "      <th>result</th>\n",
       "    </tr>\n",
       "  </thead>\n",
       "  <tbody>\n",
       "    <tr>\n",
       "      <th>0</th>\n",
       "      <td>0</td>\n",
       "      <td>0.000000</td>\n",
       "      <td>start</td>\n",
       "    </tr>\n",
       "    <tr>\n",
       "      <th>1</th>\n",
       "      <td>4</td>\n",
       "      <td>0.019184</td>\n",
       "      <td>MissedShots</td>\n",
       "    </tr>\n",
       "    <tr>\n",
       "      <th>2</th>\n",
       "      <td>4</td>\n",
       "      <td>0.332572</td>\n",
       "      <td>MissedShots</td>\n",
       "    </tr>\n",
       "    <tr>\n",
       "      <th>3</th>\n",
       "      <td>9</td>\n",
       "      <td>0.370641</td>\n",
       "      <td>Goal</td>\n",
       "    </tr>\n",
       "    <tr>\n",
       "      <th>4</th>\n",
       "      <td>30</td>\n",
       "      <td>0.398949</td>\n",
       "      <td>BlockedShot</td>\n",
       "    </tr>\n",
       "    <tr>\n",
       "      <th>5</th>\n",
       "      <td>40</td>\n",
       "      <td>0.431904</td>\n",
       "      <td>MissedShots</td>\n",
       "    </tr>\n",
       "    <tr>\n",
       "      <th>6</th>\n",
       "      <td>45</td>\n",
       "      <td>0.463873</td>\n",
       "      <td>BlockedShot</td>\n",
       "    </tr>\n",
       "    <tr>\n",
       "      <th>7</th>\n",
       "      <td>45</td>\n",
       "      <td>0.508475</td>\n",
       "      <td>MissedShots</td>\n",
       "    </tr>\n",
       "    <tr>\n",
       "      <th>8</th>\n",
       "      <td>67</td>\n",
       "      <td>0.597807</td>\n",
       "      <td>Goal</td>\n",
       "    </tr>\n",
       "    <tr>\n",
       "      <th>9</th>\n",
       "      <td>69</td>\n",
       "      <td>0.711795</td>\n",
       "      <td>BlockedShot</td>\n",
       "    </tr>\n",
       "    <tr>\n",
       "      <th>10</th>\n",
       "      <td>69</td>\n",
       "      <td>1.159087</td>\n",
       "      <td>BlockedShot</td>\n",
       "    </tr>\n",
       "    <tr>\n",
       "      <th>11</th>\n",
       "      <td>69</td>\n",
       "      <td>1.308001</td>\n",
       "      <td>BlockedShot</td>\n",
       "    </tr>\n",
       "    <tr>\n",
       "      <th>12</th>\n",
       "      <td>70</td>\n",
       "      <td>1.362833</td>\n",
       "      <td>BlockedShot</td>\n",
       "    </tr>\n",
       "    <tr>\n",
       "      <th>13</th>\n",
       "      <td>70</td>\n",
       "      <td>1.407540</td>\n",
       "      <td>MissedShots</td>\n",
       "    </tr>\n",
       "    <tr>\n",
       "      <th>14</th>\n",
       "      <td>71</td>\n",
       "      <td>1.420960</td>\n",
       "      <td>BlockedShot</td>\n",
       "    </tr>\n",
       "    <tr>\n",
       "      <th>15</th>\n",
       "      <td>75</td>\n",
       "      <td>1.451840</td>\n",
       "      <td>MissedShots</td>\n",
       "    </tr>\n",
       "    <tr>\n",
       "      <th>16</th>\n",
       "      <td>76</td>\n",
       "      <td>1.471704</td>\n",
       "      <td>BlockedShot</td>\n",
       "    </tr>\n",
       "    <tr>\n",
       "      <th>17</th>\n",
       "      <td>78</td>\n",
       "      <td>1.576040</td>\n",
       "      <td>MissedShots</td>\n",
       "    </tr>\n",
       "    <tr>\n",
       "      <th>18</th>\n",
       "      <td>94</td>\n",
       "      <td>1.841683</td>\n",
       "      <td>MissedShots</td>\n",
       "    </tr>\n",
       "    <tr>\n",
       "      <th>19</th>\n",
       "      <td>94</td>\n",
       "      <td>1.841683</td>\n",
       "      <td>end</td>\n",
       "    </tr>\n",
       "  </tbody>\n",
       "</table>\n",
       "</div>"
      ],
      "text/plain": [
       "    minute        xg       result\n",
       "0        0  0.000000        start\n",
       "1        4  0.019184  MissedShots\n",
       "2        4  0.332572  MissedShots\n",
       "3        9  0.370641         Goal\n",
       "4       30  0.398949  BlockedShot\n",
       "5       40  0.431904  MissedShots\n",
       "6       45  0.463873  BlockedShot\n",
       "7       45  0.508475  MissedShots\n",
       "8       67  0.597807         Goal\n",
       "9       69  0.711795  BlockedShot\n",
       "10      69  1.159087  BlockedShot\n",
       "11      69  1.308001  BlockedShot\n",
       "12      70  1.362833  BlockedShot\n",
       "13      70  1.407540  MissedShots\n",
       "14      71  1.420960  BlockedShot\n",
       "15      75  1.451840  MissedShots\n",
       "16      76  1.471704  BlockedShot\n",
       "17      78  1.576040  MissedShots\n",
       "18      94  1.841683  MissedShots\n",
       "19      94  1.841683          end"
      ]
     },
     "execution_count": 29,
     "metadata": {},
     "output_type": "execute_result"
    }
   ],
   "source": [
    "df_h"
   ]
  },
  {
   "cell_type": "code",
   "execution_count": 40,
   "metadata": {
    "ExecuteTime": {
     "end_time": "2021-05-15T00:12:27.409594Z",
     "start_time": "2021-05-15T00:12:26.568524Z"
    }
   },
   "outputs": [
    {
     "data": {
      "image/png": "[encoded data removed]",
      "text/plain": [
       "<Figure size 864x432 with 1 Axes>"
      ]
     },
     "metadata": {},
     "output_type": "display_data"
    }
   ],
   "source": [
    "fig,ax=plt.subplots(figsize=(12,6))\n",
    "plt.title(\"MAN UTD Vs. Liverpool, 14 May, 2021\", size=18, color='white')\n",
    "fig.set_facecolor('#22312b')\n",
    "ax.patch.set_facecolor('#22312b')\n",
    "\n",
    "plt.step(df_h.minute, df_h.xg, color='red', label='Manchester United', where='post')\n",
    "plt.step(df_a.minute, df_a.xg, color='aqua', label='Liverpool', where='post')\n",
    "\n",
    "for i in range(df_h.shape[0]):\n",
    "    if df_h.result[i]=='Goal':\n",
    "        plt.scatter(df_h.minute[i], df_h.xg[i], color='white')\n",
    "        \n",
    "for i in range(df_a.shape[0]):\n",
    "    if df_a.result[i]=='Goal':\n",
    "        plt.scatter(df_a.minute[i], df_a.xg[i], color='white')\n",
    "\n",
    "plt.axis(color='white')\n",
    "plt.xticks([15,30,45,60,75,90], color='white')\n",
    "plt.yticks(color='white')\n",
    "plt.legend()\n",
    "plt.savefig('munliv.jpeg')\n",
    "plt.show()"
   ]
  },
  {
   "cell_type": "code",
   "execution_count": null,
   "metadata": {},
   "outputs": [],
   "source": []
  },
  {
   "cell_type": "code",
   "execution_count": null,
   "metadata": {},
   "outputs": [],
   "source": []
  },
  {
   "cell_type": "code",
   "execution_count": null,
   "metadata": {},
   "outputs": [],
   "source": []
  },
  {
   "cell_type": "code",
   "execution_count": null,
   "metadata": {},
   "outputs": [],
   "source": []
  },
  {
   "cell_type": "code",
   "execution_count": null,
   "metadata": {},
   "outputs": [],
   "source": []
  },
  {
   "cell_type": "code",
   "execution_count": null,
   "metadata": {},
   "outputs": [],
   "source": [
    "def plotter(df):\n",
    "    h_name=df.h_team.unique()[0]\n",
    "    a_name=df.a_team.unique()[0]\n",
    "    \n",
    "    min_h=[0]\n",
    "    xG_h=[0]\n",
    "    min_a=[0]\n",
    "    xG_a=[0]\n",
    "    \n",
    "    min_h.extend(list(df[df.h_a=='h'].minute))\n",
    "    xG_h.extend(list(df[df.h_a=='h'].xG))\n",
    "    min_a.extend(list(df[df.h_a=='a'].minute))\n",
    "    xG_a.extend(list(df[df.h_a=='a'].xG))\n",
    "    t_max=max(90, max(df.minute))\n",
    "    min_h.append(t_max)\n",
    "    min_a.append(t_max)\n",
    "    \n",
    "    goals=df[df.result=='Goal'].reset_index()\n",
    "    own=df[df.result=='OwnGoal'].reset_index()\n",
    "    \n",
    "    cum_xG_a=cumulative_calc(xG_a)\n",
    "    cum_xG_h=cumulative_calc(xG_h)\n",
    "    \n",
    "    fig,ax=plt.subplots(figsize=(10,6))\n",
    "    fig.set_facecolor('#22312b')\n",
    "    ax.patch.set_facecolor('#22312b')\n",
    "\n",
    "    ax=plt.step(x=min_h, y=cum_xG_h, where='post', color='orange', label=h_name)\n",
    "    ax=plt.step(x=min_a, y=cum_xG_a, where='post', color='red', label=a_name)\n",
    "    for i in range(goals.shape[0]):\n",
    "        if goals.h_a[i]=='a':\n",
    "            time=goals.minute[i]\n",
    "            idx=min_a.index(time)\n",
    "            while min_a[idx]==min_a[idx+1]:\n",
    "                idx=idx+1\n",
    "            plt.scatter(x=time,y=cum_xG_a[idx], color='white')\n",
    "\n",
    "        if goals.h_a[i]=='h':\n",
    "            time=goals.minute[i]\n",
    "            idx=min_h.index(time)\n",
    "            while min_h[idx]==min_h[idx+1]:\n",
    "                idx=idx+1\n",
    "            plt.scatter(x=time,y=cum_xG_h[idx], color='white') \n",
    "    \n",
    "    for i in range(own.shape[0]):\n",
    "        if own.h_a[i]=='a':\n",
    "            time=own.minute[i]\n",
    "            time_opp=max([x for x in min_h if x<time])\n",
    "            print(time)\n",
    "            plt.scatter(x=time,y=cum_xG_h[min_h.index(time_opp)], color='red')\n",
    "        if own.h_a[i]=='h':\n",
    "            time=own.minute[i]\n",
    "            time_opp=max([x for x in min_a if x<time])\n",
    "            plt.scatter(x=time,y=cum_xG_a[min_h.index(time_opp)], color='red')            \n",
    "\n",
    "    plt.xticks([15,30,45,60,75,90], color='white')\n",
    "    plt.yticks(color='#FFFFFF')\n",
    "    plt.tight_layout()\n",
    "    plt.legend()\n",
    "    plt.savefig('wolwhu.png')\n",
    "    plt.show()"
   ]
  }
 ],
 "metadata": {
  "kernelspec": {
   "display_name": "Python 3",
   "language": "python",
   "name": "python3"
  },
  "language_info": {
   "codemirror_mode": {
    "name": "ipython",
    "version": 3
   },
   "file_extension": ".py",
   "mimetype": "text/x-python",
   "name": "python",
   "nbconvert_exporter": "python",
   "pygments_lexer": "ipython3",
   "version": "3.7.4"
  }
 },
 "nbformat": 4,
 "nbformat_minor": 2
}
