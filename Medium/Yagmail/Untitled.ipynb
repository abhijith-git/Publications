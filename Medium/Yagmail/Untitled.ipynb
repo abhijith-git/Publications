{
 "cells": [
  {
   "cell_type": "code",
   "execution_count": 1,
   "metadata": {
    "ExecuteTime": {
     "end_time": "2021-06-16T22:23:40.233514Z",
     "start_time": "2021-06-16T22:23:40.083558Z"
    }
   },
   "outputs": [],
   "source": [
    "import yagmail\n",
    "import cred"
   ]
  },
  {
   "cell_type": "code",
   "execution_count": 2,
   "metadata": {
    "ExecuteTime": {
     "end_time": "2021-06-16T22:23:42.950637Z",
     "start_time": "2021-06-16T22:23:42.944636Z"
    }
   },
   "outputs": [],
   "source": [
    "user=cred.user\n",
    "password=cred.password"
   ]
  },
  {
   "cell_type": "code",
   "execution_count": 3,
   "metadata": {
    "ExecuteTime": {
     "end_time": "2021-06-16T22:23:45.597634Z",
     "start_time": "2021-06-16T22:23:45.580632Z"
    }
   },
   "outputs": [],
   "source": [
    "mailer=yagmail.SMTP(user, password)"
   ]
  },
  {
   "cell_type": "code",
   "execution_count": null,
   "metadata": {
    "ExecuteTime": {
     "end_time": "2021-06-16T22:17:55.429167Z",
     "start_time": "2021-06-16T22:17:55.416167Z"
    }
   },
   "outputs": [],
   "source": [
    "recepiant=user\n",
    "subject='Hello Someone'\n",
    "contents=['I have a message for you','How are you']\n",
    "#mailer.send(to=recepiant, subject=subject, contents=contents)"
   ]
  },
  {
   "cell_type": "code",
   "execution_count": 11,
   "metadata": {
    "ExecuteTime": {
     "end_time": "2021-06-16T22:30:58.388555Z",
     "start_time": "2021-06-16T22:30:58.377559Z"
    }
   },
   "outputs": [],
   "source": [
    "signature='Cheers, \\nABCD'\n",
    "contents=['I have a message for you','How are you','cred.py']\n",
    "contents.append(signature)"
   ]
  },
  {
   "cell_type": "code",
   "execution_count": 12,
   "metadata": {
    "ExecuteTime": {
     "end_time": "2021-06-16T22:31:04.992647Z",
     "start_time": "2021-06-16T22:31:04.360090Z"
    }
   },
   "outputs": [
    {
     "data": {
      "text/plain": [
       "{}"
      ]
     },
     "execution_count": 12,
     "metadata": {},
     "output_type": "execute_result"
    }
   ],
   "source": [
    "recepiant=[user]\n",
    "subject='Hello Someone'\n",
    "#contents=contents.append('cred.py')\n",
    "mailer.send(to=recepiant, subject=subject, contents=contents)"
   ]
  },
  {
   "cell_type": "code",
   "execution_count": null,
   "metadata": {
    "ExecuteTime": {
     "end_time": "2021-06-16T22:13:45.125262Z",
     "start_time": "2021-06-16T22:13:44.107312Z"
    }
   },
   "outputs": [],
   "source": [
    "mailer.send(to=recepiant, subject=subject, contents=contents, headers=header)"
   ]
  },
  {
   "cell_type": "code",
   "execution_count": null,
   "metadata": {
    "ExecuteTime": {
     "end_time": "2021-06-15T17:06:03.862074Z",
     "start_time": "2021-06-15T17:06:02.384515Z"
    }
   },
   "outputs": [],
   "source": [
    "mailer.send(to=cred.user, subject='Hello World', contents=, attachments='cred.py')"
   ]
  },
  {
   "cell_type": "code",
   "execution_count": null,
   "metadata": {
    "ExecuteTime": {
     "end_time": "2021-06-16T21:53:40.781460Z",
     "start_time": "2021-06-16T21:53:40.775462Z"
    }
   },
   "outputs": [],
   "source": [
    "user"
   ]
  },
  {
   "cell_type": "code",
   "execution_count": null,
   "metadata": {
    "ExecuteTime": {
     "end_time": "2021-06-16T21:57:12.879145Z",
     "start_time": "2021-06-16T21:57:12.870145Z"
    }
   },
   "outputs": [],
   "source": [
    "signature"
   ]
  },
  {
   "cell_type": "code",
   "execution_count": null,
   "metadata": {
    "ExecuteTime": {
     "start_time": "2021-06-16T22:39:41.921Z"
    }
   },
   "outputs": [],
   "source": [
    "yagmail.inline()"
   ]
  },
  {
   "cell_type": "code",
   "execution_count": null,
   "metadata": {},
   "outputs": [],
   "source": []
  }
 ],
 "metadata": {
  "kernelspec": {
   "display_name": "Python 3",
   "language": "python",
   "name": "python3"
  },
  "language_info": {
   "codemirror_mode": {
    "name": "ipython",
    "version": 3
   },
   "file_extension": ".py",
   "mimetype": "text/x-python",
   "name": "python",
   "nbconvert_exporter": "python",
   "pygments_lexer": "ipython3",
   "version": "3.7.4"
  }
 },
 "nbformat": 4,
 "nbformat_minor": 2
}
